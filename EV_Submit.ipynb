{
 "cells": [
  {
   "cell_type": "code",
   "execution_count": 1,
   "id": "e26f1163",
   "metadata": {},
   "outputs": [],
   "source": [
    "import pandas as pd\n",
    "import numpy as np\n",
    "import seaborn as sns"
   ]
  },
  {
   "cell_type": "code",
   "execution_count": 2,
   "id": "f86d0ec0",
   "metadata": {},
   "outputs": [],
   "source": [
    "df = pd.read_csv('Data/train.csv',header = 0)\n",
    "df2 = pd.read_csv('Data/test.csv',header = 0)"
   ]
  },
  {
   "cell_type": "code",
   "execution_count": 3,
   "id": "2010ca2c",
   "metadata": {},
   "outputs": [
    {
     "name": "stdout",
     "output_type": "stream",
     "text": [
      "<class 'pandas.core.frame.DataFrame'>\n",
      "RangeIndex: 64353 entries, 0 to 64352\n",
      "Data columns (total 18 columns):\n",
      " #   Column                                             Non-Null Count  Dtype  \n",
      "---  ------                                             --------------  -----  \n",
      " 0   ID                                                 64353 non-null  object \n",
      " 1   VIN (1-10)                                         64353 non-null  object \n",
      " 2   County                                             64349 non-null  object \n",
      " 3   City                                               64344 non-null  object \n",
      " 4   State                                              64342 non-null  object \n",
      " 5   ZIP Code                                           64347 non-null  float64\n",
      " 6   Model Year                                         64346 non-null  float64\n",
      " 7   Make                                               64349 non-null  object \n",
      " 8   Model                                              64340 non-null  object \n",
      " 9   Electric Vehicle Type                              64353 non-null  object \n",
      " 10  Clean Alternative Fuel Vehicle (CAFV) Eligibility  64353 non-null  object \n",
      " 11  Electric Range                                     64353 non-null  int64  \n",
      " 12  Base MSRP                                          64353 non-null  int64  \n",
      " 13  Legislative District                               64184 non-null  float64\n",
      " 14  DOL Vehicle ID                                     64353 non-null  int64  \n",
      " 15  Vehicle Location                                   63843 non-null  object \n",
      " 16  Electric Utility                                   63631 non-null  object \n",
      " 17  Expected Price ($1k)                               64353 non-null  object \n",
      "dtypes: float64(3), int64(3), object(12)\n",
      "memory usage: 8.8+ MB\n"
     ]
    }
   ],
   "source": [
    "df.info()"
   ]
  },
  {
   "cell_type": "code",
   "execution_count": 4,
   "id": "83c333b4",
   "metadata": {},
   "outputs": [
    {
     "data": {
      "text/html": [
       "<div>\n",
       "<style scoped>\n",
       "    .dataframe tbody tr th:only-of-type {\n",
       "        vertical-align: middle;\n",
       "    }\n",
       "\n",
       "    .dataframe tbody tr th {\n",
       "        vertical-align: top;\n",
       "    }\n",
       "\n",
       "    .dataframe thead th {\n",
       "        text-align: right;\n",
       "    }\n",
       "</style>\n",
       "<table border=\"1\" class=\"dataframe\">\n",
       "  <thead>\n",
       "    <tr style=\"text-align: right;\">\n",
       "      <th></th>\n",
       "      <th>ID</th>\n",
       "      <th>VIN (1-10)</th>\n",
       "      <th>County</th>\n",
       "      <th>City</th>\n",
       "      <th>State</th>\n",
       "      <th>ZIP Code</th>\n",
       "      <th>Model Year</th>\n",
       "      <th>Make</th>\n",
       "      <th>Model</th>\n",
       "      <th>Electric Vehicle Type</th>\n",
       "      <th>Clean Alternative Fuel Vehicle (CAFV) Eligibility</th>\n",
       "      <th>Electric Range</th>\n",
       "      <th>Base MSRP</th>\n",
       "      <th>Legislative District</th>\n",
       "      <th>DOL Vehicle ID</th>\n",
       "      <th>Vehicle Location</th>\n",
       "      <th>Electric Utility</th>\n",
       "      <th>Expected Price ($1k)</th>\n",
       "    </tr>\n",
       "  </thead>\n",
       "  <tbody>\n",
       "    <tr>\n",
       "      <th>18618</th>\n",
       "      <td>EV258</td>\n",
       "      <td>KMHE34L17G</td>\n",
       "      <td>Spokane</td>\n",
       "      <td>SPOKANE VALLEY</td>\n",
       "      <td>WA</td>\n",
       "      <td>99016.0</td>\n",
       "      <td>NaN</td>\n",
       "      <td>HYUNDAI</td>\n",
       "      <td>SONATA PLUG-IN HYBRID</td>\n",
       "      <td>Plug-in Hybrid Electric Vehicle (PHEV)</td>\n",
       "      <td>Not eligible due to low battery range</td>\n",
       "      <td>27</td>\n",
       "      <td>34600</td>\n",
       "      <td>4.0</td>\n",
       "      <td>476776030</td>\n",
       "      <td>POINT (-117.152872 47.645579)</td>\n",
       "      <td>BONNEVILLE POWER ADMINISTRATION||AVISTA CORP||...</td>\n",
       "      <td>16.365</td>\n",
       "    </tr>\n",
       "    <tr>\n",
       "      <th>34663</th>\n",
       "      <td>EV255</td>\n",
       "      <td>5YJ3E1EB6K</td>\n",
       "      <td>King</td>\n",
       "      <td>SEATTLE</td>\n",
       "      <td>WA</td>\n",
       "      <td>98115.0</td>\n",
       "      <td>NaN</td>\n",
       "      <td>TESLA</td>\n",
       "      <td>MODEL 3</td>\n",
       "      <td>Battery Electric Vehicle (BEV)</td>\n",
       "      <td>Clean Alternative Fuel Vehicle Eligible</td>\n",
       "      <td>220</td>\n",
       "      <td>0</td>\n",
       "      <td>46.0</td>\n",
       "      <td>192220731</td>\n",
       "      <td>POINT (-122.297534 47.685291)</td>\n",
       "      <td>CITY OF SEATTLE - (WA)|CITY OF TACOMA - (WA)</td>\n",
       "      <td>57</td>\n",
       "    </tr>\n",
       "    <tr>\n",
       "      <th>35578</th>\n",
       "      <td>EV250</td>\n",
       "      <td>5YJSA1CP9D</td>\n",
       "      <td>Clark</td>\n",
       "      <td>VANCOUVER</td>\n",
       "      <td>WA</td>\n",
       "      <td>98683.0</td>\n",
       "      <td>NaN</td>\n",
       "      <td>TESLA</td>\n",
       "      <td>MODEL S</td>\n",
       "      <td>Battery Electric Vehicle (BEV)</td>\n",
       "      <td>Clean Alternative Fuel Vehicle Eligible</td>\n",
       "      <td>208</td>\n",
       "      <td>69900</td>\n",
       "      <td>17.0</td>\n",
       "      <td>193870848</td>\n",
       "      <td>POINT (-122.510748 45.603727)</td>\n",
       "      <td>BONNEVILLE POWER ADMINISTRATION||PUD NO 1 OF C...</td>\n",
       "      <td>33.89</td>\n",
       "    </tr>\n",
       "    <tr>\n",
       "      <th>50803</th>\n",
       "      <td>EV252</td>\n",
       "      <td>5YJYGDEF0L</td>\n",
       "      <td>Chelan</td>\n",
       "      <td>WENATCHEE</td>\n",
       "      <td>WA</td>\n",
       "      <td>98801.0</td>\n",
       "      <td>NaN</td>\n",
       "      <td>TESLA</td>\n",
       "      <td>MODEL Y</td>\n",
       "      <td>Battery Electric Vehicle (BEV)</td>\n",
       "      <td>Clean Alternative Fuel Vehicle Eligible</td>\n",
       "      <td>291</td>\n",
       "      <td>0</td>\n",
       "      <td>12.0</td>\n",
       "      <td>127404371</td>\n",
       "      <td>POINT (-120.336499 47.425146)</td>\n",
       "      <td>PUD NO 1 OF CHELAN COUNTY</td>\n",
       "      <td>72</td>\n",
       "    </tr>\n",
       "    <tr>\n",
       "      <th>54860</th>\n",
       "      <td>EV249</td>\n",
       "      <td>WAUTPBFF2G</td>\n",
       "      <td>Snohomish</td>\n",
       "      <td>EDMONDS</td>\n",
       "      <td>WA</td>\n",
       "      <td>98026.0</td>\n",
       "      <td>NaN</td>\n",
       "      <td>AUDI</td>\n",
       "      <td>A3</td>\n",
       "      <td>Plug-in Hybrid Electric Vehicle (PHEV)</td>\n",
       "      <td>Not eligible due to low battery range</td>\n",
       "      <td>16</td>\n",
       "      <td>0</td>\n",
       "      <td>21.0</td>\n",
       "      <td>165842008</td>\n",
       "      <td>POINT (-122.333046 47.829439)</td>\n",
       "      <td>PUGET SOUND ENERGY INC</td>\n",
       "      <td>18.86</td>\n",
       "    </tr>\n",
       "    <tr>\n",
       "      <th>59409</th>\n",
       "      <td>EV256</td>\n",
       "      <td>5YJ3E1EB0M</td>\n",
       "      <td>Clark</td>\n",
       "      <td>CAMAS</td>\n",
       "      <td>WA</td>\n",
       "      <td>98607.0</td>\n",
       "      <td>NaN</td>\n",
       "      <td>TESLA</td>\n",
       "      <td>MODEL 3</td>\n",
       "      <td>Battery Electric Vehicle (BEV)</td>\n",
       "      <td>Eligibility unknown as battery range has not b...</td>\n",
       "      <td>0</td>\n",
       "      <td>0</td>\n",
       "      <td>18.0</td>\n",
       "      <td>169660508</td>\n",
       "      <td>POINT (-122.408498 45.620943)</td>\n",
       "      <td>BONNEVILLE POWER ADMINISTRATION||PUD NO 1 OF C...</td>\n",
       "      <td>64</td>\n",
       "    </tr>\n",
       "    <tr>\n",
       "      <th>62552</th>\n",
       "      <td>EV253</td>\n",
       "      <td>5YJ3E1EA2M</td>\n",
       "      <td>King</td>\n",
       "      <td>SEATTLE</td>\n",
       "      <td>WA</td>\n",
       "      <td>98144.0</td>\n",
       "      <td>NaN</td>\n",
       "      <td>TESLA</td>\n",
       "      <td>MODEL 3</td>\n",
       "      <td>Battery Electric Vehicle (BEV)</td>\n",
       "      <td>Eligibility unknown as battery range has not b...</td>\n",
       "      <td>0</td>\n",
       "      <td>0</td>\n",
       "      <td>37.0</td>\n",
       "      <td>150168735</td>\n",
       "      <td>POINT (-122.30033 47.585339)</td>\n",
       "      <td>CITY OF SEATTLE - (WA)|CITY OF TACOMA - (WA)</td>\n",
       "      <td>64</td>\n",
       "    </tr>\n",
       "  </tbody>\n",
       "</table>\n",
       "</div>"
      ],
      "text/plain": [
       "          ID  VIN (1-10)     County            City State  ZIP Code  \\\n",
       "18618  EV258  KMHE34L17G    Spokane  SPOKANE VALLEY    WA   99016.0   \n",
       "34663  EV255  5YJ3E1EB6K       King         SEATTLE    WA   98115.0   \n",
       "35578  EV250  5YJSA1CP9D      Clark       VANCOUVER    WA   98683.0   \n",
       "50803  EV252  5YJYGDEF0L     Chelan       WENATCHEE    WA   98801.0   \n",
       "54860  EV249  WAUTPBFF2G  Snohomish         EDMONDS    WA   98026.0   \n",
       "59409  EV256  5YJ3E1EB0M      Clark           CAMAS    WA   98607.0   \n",
       "62552  EV253  5YJ3E1EA2M       King         SEATTLE    WA   98144.0   \n",
       "\n",
       "       Model Year     Make                  Model  \\\n",
       "18618         NaN  HYUNDAI  SONATA PLUG-IN HYBRID   \n",
       "34663         NaN    TESLA                MODEL 3   \n",
       "35578         NaN    TESLA                MODEL S   \n",
       "50803         NaN    TESLA                MODEL Y   \n",
       "54860         NaN     AUDI                     A3   \n",
       "59409         NaN    TESLA                MODEL 3   \n",
       "62552         NaN    TESLA                MODEL 3   \n",
       "\n",
       "                        Electric Vehicle Type  \\\n",
       "18618  Plug-in Hybrid Electric Vehicle (PHEV)   \n",
       "34663          Battery Electric Vehicle (BEV)   \n",
       "35578          Battery Electric Vehicle (BEV)   \n",
       "50803          Battery Electric Vehicle (BEV)   \n",
       "54860  Plug-in Hybrid Electric Vehicle (PHEV)   \n",
       "59409          Battery Electric Vehicle (BEV)   \n",
       "62552          Battery Electric Vehicle (BEV)   \n",
       "\n",
       "       Clean Alternative Fuel Vehicle (CAFV) Eligibility  Electric Range  \\\n",
       "18618              Not eligible due to low battery range              27   \n",
       "34663            Clean Alternative Fuel Vehicle Eligible             220   \n",
       "35578            Clean Alternative Fuel Vehicle Eligible             208   \n",
       "50803            Clean Alternative Fuel Vehicle Eligible             291   \n",
       "54860              Not eligible due to low battery range              16   \n",
       "59409  Eligibility unknown as battery range has not b...               0   \n",
       "62552  Eligibility unknown as battery range has not b...               0   \n",
       "\n",
       "       Base MSRP  Legislative District  DOL Vehicle ID  \\\n",
       "18618      34600                   4.0       476776030   \n",
       "34663          0                  46.0       192220731   \n",
       "35578      69900                  17.0       193870848   \n",
       "50803          0                  12.0       127404371   \n",
       "54860          0                  21.0       165842008   \n",
       "59409          0                  18.0       169660508   \n",
       "62552          0                  37.0       150168735   \n",
       "\n",
       "                    Vehicle Location  \\\n",
       "18618  POINT (-117.152872 47.645579)   \n",
       "34663  POINT (-122.297534 47.685291)   \n",
       "35578  POINT (-122.510748 45.603727)   \n",
       "50803  POINT (-120.336499 47.425146)   \n",
       "54860  POINT (-122.333046 47.829439)   \n",
       "59409  POINT (-122.408498 45.620943)   \n",
       "62552   POINT (-122.30033 47.585339)   \n",
       "\n",
       "                                        Electric Utility Expected Price ($1k)  \n",
       "18618  BONNEVILLE POWER ADMINISTRATION||AVISTA CORP||...               16.365  \n",
       "34663       CITY OF SEATTLE - (WA)|CITY OF TACOMA - (WA)                   57  \n",
       "35578  BONNEVILLE POWER ADMINISTRATION||PUD NO 1 OF C...                33.89  \n",
       "50803                          PUD NO 1 OF CHELAN COUNTY                   72  \n",
       "54860                             PUGET SOUND ENERGY INC                18.86  \n",
       "59409  BONNEVILLE POWER ADMINISTRATION||PUD NO 1 OF C...                   64  \n",
       "62552       CITY OF SEATTLE - (WA)|CITY OF TACOMA - (WA)                   64  "
      ]
     },
     "execution_count": 4,
     "metadata": {},
     "output_type": "execute_result"
    }
   ],
   "source": [
    "Model_year = {'P': 1993, 'W': 1998, 'X': 1999, 'Y': 2000, '2': 2002, '8': 2008, 'A': 2010, 'B': 2011, 'C': 2012, 'D': 2013, 'E': 2014, 'F': 2015, 'G': 2016, 'H': 2017, 'I': 2018, 'J': 2019, 'K': 2020, 'L': 2021, 'M': 2022}\n",
    "df[(df['Model Year'].isnull())]"
   ]
  },
  {
   "cell_type": "code",
   "execution_count": 5,
   "id": "4f19aa65",
   "metadata": {},
   "outputs": [],
   "source": [
    "l=df[(df['Model Year'].isnull())].index"
   ]
  },
  {
   "cell_type": "code",
   "execution_count": 6,
   "id": "01199ee5",
   "metadata": {},
   "outputs": [],
   "source": [
    "j = [df.iloc[i]['VIN (1-10)'][-1] for i in l]"
   ]
  },
  {
   "cell_type": "code",
   "execution_count": 7,
   "id": "b5386a7a",
   "metadata": {},
   "outputs": [
    {
     "name": "stderr",
     "output_type": "stream",
     "text": [
      "C:\\Users\\PIYUSH KARMHE\\anaconda3\\lib\\site-packages\\pandas\\core\\indexing.py:1637: SettingWithCopyWarning: \n",
      "A value is trying to be set on a copy of a slice from a DataFrame\n",
      "\n",
      "See the caveats in the documentation: https://pandas.pydata.org/pandas-docs/stable/user_guide/indexing.html#returning-a-view-versus-a-copy\n",
      "  self._setitem_single_block(indexer, value, name)\n"
     ]
    }
   ],
   "source": [
    "k=0\n",
    "for i in l:\n",
    "    df['Model Year'].iloc[i] = Model_year[j[k]]\n",
    "    k+=1"
   ]
  },
  {
   "cell_type": "code",
   "execution_count": 8,
   "id": "17c9a990",
   "metadata": {},
   "outputs": [
    {
     "data": {
      "text/plain": [
       "Int64Index([], dtype='int64')"
      ]
     },
     "execution_count": 8,
     "metadata": {},
     "output_type": "execute_result"
    }
   ],
   "source": [
    "df[(df['Model Year'].isnull())].index"
   ]
  },
  {
   "cell_type": "code",
   "execution_count": 9,
   "id": "95780301",
   "metadata": {},
   "outputs": [],
   "source": [
    "zip1 = {'POINT (-122.374864 47.548552)': 98126, 'POINT (-122.212105 47.792368)': 98021,'POINT (-122.029605 47.939428)': 98290, 'POINT (-122.534497 47.643688)': 98110, 'POINT (-117.166513 32.746633)': 92103, np.nan:np.nan}\n",
    "zip2 = {'SEATTLE': 98107, 'SPOKANE VALLEY': 99037, 'nan':''}"
   ]
  },
  {
   "cell_type": "code",
   "execution_count": 10,
   "id": "2e328ed0",
   "metadata": {},
   "outputs": [],
   "source": [
    "l = df[(df['ZIP Code'].isnull())].index"
   ]
  },
  {
   "cell_type": "code",
   "execution_count": 11,
   "id": "90aaff8c",
   "metadata": {},
   "outputs": [],
   "source": [
    "j = [df.iloc[i]['Vehicle Location'] for i in l]"
   ]
  },
  {
   "cell_type": "code",
   "execution_count": 12,
   "id": "df2a3857",
   "metadata": {},
   "outputs": [],
   "source": [
    "k=0\n",
    "for i in l:\n",
    "    df['ZIP Code'].iloc[i] = zip1[j[k]]\n",
    "    k+=1"
   ]
  },
  {
   "cell_type": "code",
   "execution_count": 13,
   "id": "49afdad6",
   "metadata": {},
   "outputs": [],
   "source": [
    "l = df[(df['ZIP Code'].isnull())].index"
   ]
  },
  {
   "cell_type": "code",
   "execution_count": 14,
   "id": "1a7c0ff9",
   "metadata": {},
   "outputs": [],
   "source": [
    "j = [df.iloc[i]['City'] for i in l]"
   ]
  },
  {
   "cell_type": "code",
   "execution_count": 15,
   "id": "0bc77fd9",
   "metadata": {},
   "outputs": [],
   "source": [
    "k=0\n",
    "for i in l:\n",
    "    df['ZIP Code'].iloc[i] = zip2[j[k]]\n",
    "    k+=1"
   ]
  },
  {
   "cell_type": "code",
   "execution_count": 16,
   "id": "e61a1b3b",
   "metadata": {},
   "outputs": [
    {
     "data": {
      "text/plain": [
       "99037.0"
      ]
     },
     "execution_count": 16,
     "metadata": {},
     "output_type": "execute_result"
    }
   ],
   "source": [
    "df['ZIP Code'].iloc[l[0]]"
   ]
  },
  {
   "cell_type": "code",
   "execution_count": 17,
   "id": "a3a6e040",
   "metadata": {},
   "outputs": [],
   "source": [
    "l = df2[(df2['ZIP Code'].isnull())].index"
   ]
  },
  {
   "cell_type": "code",
   "execution_count": 18,
   "id": "5144097d",
   "metadata": {},
   "outputs": [],
   "source": [
    "j = [df2.iloc[i]['Vehicle Location'] for i in l]"
   ]
  },
  {
   "cell_type": "code",
   "execution_count": 19,
   "id": "31f1de76",
   "metadata": {},
   "outputs": [],
   "source": [
    "k=0\n",
    "for i in l:\n",
    "    try:\n",
    "        df2['ZIP Code'].iloc[i] = zip1[j[k]]\n",
    "    except:\n",
    "        pass\n",
    "    k+=1"
   ]
  },
  {
   "cell_type": "code",
   "execution_count": 20,
   "id": "e5ac2ca7",
   "metadata": {},
   "outputs": [],
   "source": [
    "l=df2[(df2['Model Year'].isnull())].index"
   ]
  },
  {
   "cell_type": "code",
   "execution_count": 21,
   "id": "3f96e769",
   "metadata": {},
   "outputs": [],
   "source": [
    "j = [df2.iloc[i]['VIN (1-10)'][-1] for i in l]"
   ]
  },
  {
   "cell_type": "code",
   "execution_count": 22,
   "id": "aec076c5",
   "metadata": {},
   "outputs": [],
   "source": [
    "k=0\n",
    "for i in l:\n",
    "    df2['Model Year'].iloc[i] = Model_year[j[k]]\n",
    "    k+=1"
   ]
  },
  {
   "cell_type": "code",
   "execution_count": 23,
   "id": "5c34fbd4",
   "metadata": {},
   "outputs": [],
   "source": [
    "Make = {'LEAF': 'NISSAN', 'MODEL 3': 'TESLA', 'NIRO': 'KIA', 'SORENTO': 'KIA'}"
   ]
  },
  {
   "cell_type": "code",
   "execution_count": 24,
   "id": "debd0cc4",
   "metadata": {},
   "outputs": [],
   "source": [
    "l = df[(df['Make'].isnull())].index"
   ]
  },
  {
   "cell_type": "code",
   "execution_count": 25,
   "id": "e6649a20",
   "metadata": {},
   "outputs": [],
   "source": [
    "j = [df.iloc[i]['Model'] for i in l]"
   ]
  },
  {
   "cell_type": "code",
   "execution_count": 26,
   "id": "4c5047b8",
   "metadata": {},
   "outputs": [
    {
     "data": {
      "text/plain": [
       "['LEAF', 'MODEL 3', 'NIRO', 'SORENTO']"
      ]
     },
     "execution_count": 26,
     "metadata": {},
     "output_type": "execute_result"
    }
   ],
   "source": [
    "j"
   ]
  },
  {
   "cell_type": "code",
   "execution_count": 27,
   "id": "14ff6ec3",
   "metadata": {},
   "outputs": [],
   "source": [
    "k=0\n",
    "for i in l:\n",
    "    df['Make'].iloc[i] = Make[j[k]]\n",
    "    k+=1"
   ]
  },
  {
   "cell_type": "code",
   "execution_count": 28,
   "id": "3d83e015",
   "metadata": {},
   "outputs": [],
   "source": [
    "l = df2[(df2['Make'].isnull())].index"
   ]
  },
  {
   "cell_type": "code",
   "execution_count": 29,
   "id": "48003069",
   "metadata": {},
   "outputs": [],
   "source": [
    "j = [df2.iloc[i]['Model'] for i in l]"
   ]
  },
  {
   "cell_type": "code",
   "execution_count": 30,
   "id": "cb1ce0d3",
   "metadata": {},
   "outputs": [
    {
     "data": {
      "text/plain": [
       "['LEAF', 'MODEL 3', 'MODEL 3']"
      ]
     },
     "execution_count": 30,
     "metadata": {},
     "output_type": "execute_result"
    }
   ],
   "source": [
    "j"
   ]
  },
  {
   "cell_type": "code",
   "execution_count": 31,
   "id": "6e98fad3",
   "metadata": {},
   "outputs": [],
   "source": [
    "k=0\n",
    "for i in l:\n",
    "    df2['Make'].iloc[i] = Make[j[k]]\n",
    "    k+=1"
   ]
  },
  {
   "cell_type": "code",
   "execution_count": 32,
   "id": "46d38b6b",
   "metadata": {},
   "outputs": [],
   "source": [
    "Model = {'1FMC': 'ESCAPE'}"
   ]
  },
  {
   "cell_type": "code",
   "execution_count": 33,
   "id": "590c16d0",
   "metadata": {},
   "outputs": [],
   "source": [
    "l = df[(df['Model'].isnull())].index"
   ]
  },
  {
   "cell_type": "code",
   "execution_count": 34,
   "id": "c7e40f54",
   "metadata": {},
   "outputs": [
    {
     "data": {
      "text/plain": [
       "'1FMCU0LZ4N'"
      ]
     },
     "execution_count": 34,
     "metadata": {},
     "output_type": "execute_result"
    }
   ],
   "source": [
    "df.iloc[l[0]]['VIN (1-10)']"
   ]
  },
  {
   "cell_type": "code",
   "execution_count": 35,
   "id": "2fc947f9",
   "metadata": {},
   "outputs": [
    {
     "data": {
      "text/plain": [
       "'1FMC'"
      ]
     },
     "execution_count": 35,
     "metadata": {},
     "output_type": "execute_result"
    }
   ],
   "source": [
    "df.iloc[l[0]]['VIN (1-10)'][:4]"
   ]
  },
  {
   "cell_type": "code",
   "execution_count": 36,
   "id": "d9bbb08b",
   "metadata": {},
   "outputs": [],
   "source": [
    "j = [df.iloc[i]['VIN (1-10)'][:4] for i in l]"
   ]
  },
  {
   "cell_type": "code",
   "execution_count": 37,
   "id": "c79c6ed4",
   "metadata": {},
   "outputs": [],
   "source": [
    "k=0\n",
    "for i in l:\n",
    "    df['Model'].iloc[i] = Model[j[k]]\n",
    "    k+=1"
   ]
  },
  {
   "cell_type": "code",
   "execution_count": 38,
   "id": "50b56361",
   "metadata": {},
   "outputs": [],
   "source": [
    "l = df2[(df2['Model'].isnull())].index"
   ]
  },
  {
   "cell_type": "code",
   "execution_count": 39,
   "id": "87dc1f0f",
   "metadata": {},
   "outputs": [],
   "source": [
    "j = [df2.iloc[i]['VIN (1-10)'][:4] for i in l]"
   ]
  },
  {
   "cell_type": "code",
   "execution_count": 40,
   "id": "856972fd",
   "metadata": {},
   "outputs": [],
   "source": [
    "k=0\n",
    "for i in l:\n",
    "    df2['Model'].iloc[i] = Model[j[k]]\n",
    "    k+=1"
   ]
  },
  {
   "cell_type": "code",
   "execution_count": 41,
   "id": "3a00c2df",
   "metadata": {},
   "outputs": [],
   "source": [
    "state = {'EDMONDS': 'WA', 'CHUGIAK': 'AK','LACEY': 'WA','BOTHELL': 'WA','SEATTLE': 'WA', 'BAINBRIDGE ISLAND': 'WA', 'YAKIMA': 'WA', 'VASHON': 'WA', 'BREMERTON': 'WA', 'SAN DIEGO': 'CA'}"
   ]
  },
  {
   "cell_type": "code",
   "execution_count": 42,
   "id": "8dc47c09",
   "metadata": {},
   "outputs": [],
   "source": [
    "l = df2[(df2['State'].isnull())].index"
   ]
  },
  {
   "cell_type": "code",
   "execution_count": 43,
   "id": "56ed7ad8",
   "metadata": {},
   "outputs": [],
   "source": [
    "j = [df2.iloc[i]['City'] for i in l]"
   ]
  },
  {
   "cell_type": "code",
   "execution_count": 44,
   "id": "ea9a891e",
   "metadata": {},
   "outputs": [],
   "source": [
    "k=0\n",
    "for i in l:\n",
    "    df2['State'].iloc[i] = state[j[k]]\n",
    "    k+=1"
   ]
  },
  {
   "cell_type": "code",
   "execution_count": 45,
   "id": "df0c394d",
   "metadata": {},
   "outputs": [],
   "source": [
    "l = df[(df['State'].isnull())].index"
   ]
  },
  {
   "cell_type": "code",
   "execution_count": 46,
   "id": "ec921269",
   "metadata": {},
   "outputs": [],
   "source": [
    "j = [df.iloc[i]['City'] for i in l]"
   ]
  },
  {
   "cell_type": "code",
   "execution_count": 47,
   "id": "2bfa354c",
   "metadata": {},
   "outputs": [],
   "source": [
    "k=0\n",
    "for i in l:\n",
    "    df['State'].iloc[i] = state[j[k]]\n",
    "    k+=1"
   ]
  },
  {
   "cell_type": "code",
   "execution_count": 48,
   "id": "124ead8e",
   "metadata": {},
   "outputs": [],
   "source": [
    "city_train = {98052: 'REDMOND', 98502: 'OLYMPIA', 98346: 'KINGSTON', 98312: 'BREMERTON', 98513: 'OLYMPIA', 98908: 'YAKIMA', 98008: 'BELLEVUE'}"
   ]
  },
  {
   "cell_type": "code",
   "execution_count": 49,
   "id": "4c3b94e6",
   "metadata": {},
   "outputs": [],
   "source": [
    "l = df[(df['City'].isnull())].index"
   ]
  },
  {
   "cell_type": "code",
   "execution_count": 50,
   "id": "a7a794bf",
   "metadata": {},
   "outputs": [],
   "source": [
    "j = [df.iloc[i]['ZIP Code'] for i in l]"
   ]
  },
  {
   "cell_type": "code",
   "execution_count": 51,
   "id": "91831fd3",
   "metadata": {},
   "outputs": [],
   "source": [
    "k=0\n",
    "for i in l:\n",
    "    df['City'].iloc[i] = city_train[j[k]]\n",
    "    k+=1"
   ]
  },
  {
   "cell_type": "code",
   "execution_count": 52,
   "id": "953f4c69",
   "metadata": {},
   "outputs": [],
   "source": [
    "city_test = {98370: 'POULSBO', 98107: 'SEATTLE', 98019: 'DUVALL'}"
   ]
  },
  {
   "cell_type": "code",
   "execution_count": 53,
   "id": "9a55444e",
   "metadata": {},
   "outputs": [],
   "source": [
    "l = df2[(df2['City'].isnull())].index"
   ]
  },
  {
   "cell_type": "code",
   "execution_count": 54,
   "id": "b2852b53",
   "metadata": {},
   "outputs": [],
   "source": [
    "j = [df2.iloc[i]['ZIP Code'] for i in l]"
   ]
  },
  {
   "cell_type": "code",
   "execution_count": 55,
   "id": "2da3f544",
   "metadata": {},
   "outputs": [],
   "source": [
    "k=0\n",
    "for i in l:\n",
    "    df2['City'].iloc[i] = city_test[j[k]]\n",
    "    k+=1"
   ]
  },
  {
   "cell_type": "code",
   "execution_count": 56,
   "id": "6b844ba1",
   "metadata": {},
   "outputs": [],
   "source": [
    "county_train = {'APO': 'Houdson', 'FPO': 'SouthWest'}"
   ]
  },
  {
   "cell_type": "code",
   "execution_count": 57,
   "id": "dc07e8c9",
   "metadata": {},
   "outputs": [],
   "source": [
    "l = df[(df['County'].isnull())].index"
   ]
  },
  {
   "cell_type": "code",
   "execution_count": 58,
   "id": "c7f025d6",
   "metadata": {},
   "outputs": [],
   "source": [
    "j = [df.iloc[i]['City'] for i in l]"
   ]
  },
  {
   "cell_type": "code",
   "execution_count": 59,
   "id": "adf1f2ea",
   "metadata": {},
   "outputs": [],
   "source": [
    "k=0\n",
    "for i in l:\n",
    "    df['County'].iloc[i] = county_train[j[k]]\n",
    "    k+=1"
   ]
  },
  {
   "cell_type": "code",
   "execution_count": 60,
   "id": "04b1e4d9",
   "metadata": {},
   "outputs": [],
   "source": [
    "county_test = {9753: 'Hudson', 96319: 'SouthWest', 96530: 'SouthWest', 96620: 'SouthWest'}"
   ]
  },
  {
   "cell_type": "code",
   "execution_count": 61,
   "id": "26945b27",
   "metadata": {},
   "outputs": [],
   "source": [
    "l = df2[(df2['County'].isnull())].index"
   ]
  },
  {
   "cell_type": "code",
   "execution_count": 62,
   "id": "b0ab6066",
   "metadata": {},
   "outputs": [],
   "source": [
    "j = [df2.iloc[i]['ZIP Code'] for i in l]"
   ]
  },
  {
   "cell_type": "code",
   "execution_count": 63,
   "id": "97dbb07b",
   "metadata": {},
   "outputs": [],
   "source": [
    "k=0\n",
    "for i in l:\n",
    "    df2['County'].iloc[i] = county_test[j[k]]\n",
    "    k+=1"
   ]
  },
  {
   "cell_type": "code",
   "execution_count": 64,
   "id": "d4ce2607",
   "metadata": {},
   "outputs": [],
   "source": [
    "l=df[(df['Expected Price ($1k)']=='N/')].index"
   ]
  },
  {
   "cell_type": "code",
   "execution_count": 65,
   "id": "c7bf69db",
   "metadata": {},
   "outputs": [],
   "source": [
    "for i in l:\n",
    "    df=df.drop([i],axis=0)"
   ]
  },
  {
   "cell_type": "code",
   "execution_count": 66,
   "id": "a22dcce5",
   "metadata": {},
   "outputs": [
    {
     "name": "stdout",
     "output_type": "stream",
     "text": [
      "<class 'pandas.core.frame.DataFrame'>\n",
      "Int64Index: 64340 entries, 0 to 64352\n",
      "Data columns (total 18 columns):\n",
      " #   Column                                             Non-Null Count  Dtype  \n",
      "---  ------                                             --------------  -----  \n",
      " 0   ID                                                 64340 non-null  object \n",
      " 1   VIN (1-10)                                         64340 non-null  object \n",
      " 2   County                                             64340 non-null  object \n",
      " 3   City                                               64340 non-null  object \n",
      " 4   State                                              64340 non-null  object \n",
      " 5   ZIP Code                                           64340 non-null  float64\n",
      " 6   Model Year                                         64340 non-null  float64\n",
      " 7   Make                                               64340 non-null  object \n",
      " 8   Model                                              64340 non-null  object \n",
      " 9   Electric Vehicle Type                              64340 non-null  object \n",
      " 10  Clean Alternative Fuel Vehicle (CAFV) Eligibility  64340 non-null  object \n",
      " 11  Electric Range                                     64340 non-null  int64  \n",
      " 12  Base MSRP                                          64340 non-null  int64  \n",
      " 13  Legislative District                               64171 non-null  float64\n",
      " 14  DOL Vehicle ID                                     64340 non-null  int64  \n",
      " 15  Vehicle Location                                   63830 non-null  object \n",
      " 16  Electric Utility                                   63618 non-null  object \n",
      " 17  Expected Price ($1k)                               64340 non-null  object \n",
      "dtypes: float64(3), int64(3), object(12)\n",
      "memory usage: 9.3+ MB\n"
     ]
    }
   ],
   "source": [
    "df.info()"
   ]
  },
  {
   "cell_type": "code",
   "execution_count": 67,
   "id": "9bb99ab8",
   "metadata": {},
   "outputs": [
    {
     "name": "stdout",
     "output_type": "stream",
     "text": [
      "<class 'pandas.core.frame.DataFrame'>\n",
      "RangeIndex: 27580 entries, 0 to 27579\n",
      "Data columns (total 17 columns):\n",
      " #   Column                                             Non-Null Count  Dtype  \n",
      "---  ------                                             --------------  -----  \n",
      " 0   ID                                                 27580 non-null  object \n",
      " 1   VIN (1-10)                                         27580 non-null  object \n",
      " 2   County                                             27580 non-null  object \n",
      " 3   City                                               27580 non-null  object \n",
      " 4   State                                              27580 non-null  object \n",
      " 5   ZIP Code                                           27578 non-null  float64\n",
      " 6   Model Year                                         27580 non-null  float64\n",
      " 7   Make                                               27580 non-null  object \n",
      " 8   Model                                              27580 non-null  object \n",
      " 9   Electric Vehicle Type                              27580 non-null  object \n",
      " 10  Clean Alternative Fuel Vehicle (CAFV) Eligibility  27580 non-null  object \n",
      " 11  Electric Range                                     27580 non-null  int64  \n",
      " 12  Base MSRP                                          27580 non-null  int64  \n",
      " 13  Legislative District                               27510 non-null  float64\n",
      " 14  DOL Vehicle ID                                     27580 non-null  int64  \n",
      " 15  Vehicle Location                                   27327 non-null  object \n",
      " 16  Electric Utility                                   27253 non-null  object \n",
      "dtypes: float64(3), int64(3), object(11)\n",
      "memory usage: 3.6+ MB\n"
     ]
    }
   ],
   "source": [
    "df2.info()"
   ]
  },
  {
   "cell_type": "code",
   "execution_count": 68,
   "id": "0263947d",
   "metadata": {},
   "outputs": [],
   "source": [
    "df = df.drop(['Electric Utility', 'Legislative District', 'Vehicle Location', 'DOL Vehicle ID', 'VIN (1-10)', 'ID'], axis = 1)"
   ]
  },
  {
   "cell_type": "code",
   "execution_count": 69,
   "id": "fb46fe43",
   "metadata": {},
   "outputs": [
    {
     "data": {
      "text/html": [
       "<div>\n",
       "<style scoped>\n",
       "    .dataframe tbody tr th:only-of-type {\n",
       "        vertical-align: middle;\n",
       "    }\n",
       "\n",
       "    .dataframe tbody tr th {\n",
       "        vertical-align: top;\n",
       "    }\n",
       "\n",
       "    .dataframe thead th {\n",
       "        text-align: right;\n",
       "    }\n",
       "</style>\n",
       "<table border=\"1\" class=\"dataframe\">\n",
       "  <thead>\n",
       "    <tr style=\"text-align: right;\">\n",
       "      <th></th>\n",
       "      <th>County</th>\n",
       "      <th>City</th>\n",
       "      <th>State</th>\n",
       "      <th>ZIP Code</th>\n",
       "      <th>Model Year</th>\n",
       "      <th>Make</th>\n",
       "      <th>Model</th>\n",
       "      <th>Electric Vehicle Type</th>\n",
       "      <th>Clean Alternative Fuel Vehicle (CAFV) Eligibility</th>\n",
       "      <th>Electric Range</th>\n",
       "      <th>Base MSRP</th>\n",
       "      <th>Expected Price ($1k)</th>\n",
       "    </tr>\n",
       "  </thead>\n",
       "  <tbody>\n",
       "    <tr>\n",
       "      <th>0</th>\n",
       "      <td>Snohomish</td>\n",
       "      <td>LYNNWOOD</td>\n",
       "      <td>WA</td>\n",
       "      <td>98037.0</td>\n",
       "      <td>2020.0</td>\n",
       "      <td>TESLA</td>\n",
       "      <td>MODEL 3</td>\n",
       "      <td>Battery Electric Vehicle (BEV)</td>\n",
       "      <td>Clean Alternative Fuel Vehicle Eligible</td>\n",
       "      <td>308</td>\n",
       "      <td>0</td>\n",
       "      <td>50</td>\n",
       "    </tr>\n",
       "    <tr>\n",
       "      <th>1</th>\n",
       "      <td>Skagit</td>\n",
       "      <td>BELLINGHAM</td>\n",
       "      <td>WA</td>\n",
       "      <td>98229.0</td>\n",
       "      <td>2011.0</td>\n",
       "      <td>NISSAN</td>\n",
       "      <td>LEAF</td>\n",
       "      <td>Battery Electric Vehicle (BEV)</td>\n",
       "      <td>Clean Alternative Fuel Vehicle Eligible</td>\n",
       "      <td>73</td>\n",
       "      <td>0</td>\n",
       "      <td>15</td>\n",
       "    </tr>\n",
       "    <tr>\n",
       "      <th>2</th>\n",
       "      <td>Pierce</td>\n",
       "      <td>TACOMA</td>\n",
       "      <td>WA</td>\n",
       "      <td>98422.0</td>\n",
       "      <td>2015.0</td>\n",
       "      <td>BMW</td>\n",
       "      <td>I3</td>\n",
       "      <td>Battery Electric Vehicle (BEV)</td>\n",
       "      <td>Clean Alternative Fuel Vehicle Eligible</td>\n",
       "      <td>81</td>\n",
       "      <td>0</td>\n",
       "      <td>18</td>\n",
       "    </tr>\n",
       "    <tr>\n",
       "      <th>3</th>\n",
       "      <td>King</td>\n",
       "      <td>REDMOND</td>\n",
       "      <td>WA</td>\n",
       "      <td>98053.0</td>\n",
       "      <td>2013.0</td>\n",
       "      <td>CHEVROLET</td>\n",
       "      <td>VOLT</td>\n",
       "      <td>Plug-in Hybrid Electric Vehicle (PHEV)</td>\n",
       "      <td>Clean Alternative Fuel Vehicle Eligible</td>\n",
       "      <td>38</td>\n",
       "      <td>0</td>\n",
       "      <td>33.9</td>\n",
       "    </tr>\n",
       "    <tr>\n",
       "      <th>4</th>\n",
       "      <td>Pierce</td>\n",
       "      <td>PUYALLUP</td>\n",
       "      <td>WA</td>\n",
       "      <td>98375.0</td>\n",
       "      <td>2019.0</td>\n",
       "      <td>CHEVROLET</td>\n",
       "      <td>BOLT EV</td>\n",
       "      <td>Battery Electric Vehicle (BEV)</td>\n",
       "      <td>Clean Alternative Fuel Vehicle Eligible</td>\n",
       "      <td>238</td>\n",
       "      <td>0</td>\n",
       "      <td>41.78</td>\n",
       "    </tr>\n",
       "  </tbody>\n",
       "</table>\n",
       "</div>"
      ],
      "text/plain": [
       "      County        City State  ZIP Code  Model Year       Make    Model  \\\n",
       "0  Snohomish    LYNNWOOD    WA   98037.0      2020.0      TESLA  MODEL 3   \n",
       "1     Skagit  BELLINGHAM    WA   98229.0      2011.0     NISSAN     LEAF   \n",
       "2     Pierce      TACOMA    WA   98422.0      2015.0        BMW       I3   \n",
       "3       King     REDMOND    WA   98053.0      2013.0  CHEVROLET     VOLT   \n",
       "4     Pierce    PUYALLUP    WA   98375.0      2019.0  CHEVROLET  BOLT EV   \n",
       "\n",
       "                    Electric Vehicle Type  \\\n",
       "0          Battery Electric Vehicle (BEV)   \n",
       "1          Battery Electric Vehicle (BEV)   \n",
       "2          Battery Electric Vehicle (BEV)   \n",
       "3  Plug-in Hybrid Electric Vehicle (PHEV)   \n",
       "4          Battery Electric Vehicle (BEV)   \n",
       "\n",
       "  Clean Alternative Fuel Vehicle (CAFV) Eligibility  Electric Range  \\\n",
       "0           Clean Alternative Fuel Vehicle Eligible             308   \n",
       "1           Clean Alternative Fuel Vehicle Eligible              73   \n",
       "2           Clean Alternative Fuel Vehicle Eligible              81   \n",
       "3           Clean Alternative Fuel Vehicle Eligible              38   \n",
       "4           Clean Alternative Fuel Vehicle Eligible             238   \n",
       "\n",
       "   Base MSRP Expected Price ($1k)  \n",
       "0          0                   50  \n",
       "1          0                   15  \n",
       "2          0                   18  \n",
       "3          0                 33.9  \n",
       "4          0                41.78  "
      ]
     },
     "execution_count": 69,
     "metadata": {},
     "output_type": "execute_result"
    }
   ],
   "source": [
    "df.head()"
   ]
  },
  {
   "cell_type": "code",
   "execution_count": 70,
   "id": "574371cb",
   "metadata": {},
   "outputs": [],
   "source": [
    "id=df2['ID']\n",
    "df2 = df2.drop(['Electric Utility', 'Legislative District', 'Vehicle Location', 'DOL Vehicle ID', 'VIN (1-10)', 'ID'], axis = 1)"
   ]
  },
  {
   "cell_type": "code",
   "execution_count": 71,
   "id": "34d32b9f",
   "metadata": {},
   "outputs": [
    {
     "data": {
      "text/html": [
       "<div>\n",
       "<style scoped>\n",
       "    .dataframe tbody tr th:only-of-type {\n",
       "        vertical-align: middle;\n",
       "    }\n",
       "\n",
       "    .dataframe tbody tr th {\n",
       "        vertical-align: top;\n",
       "    }\n",
       "\n",
       "    .dataframe thead th {\n",
       "        text-align: right;\n",
       "    }\n",
       "</style>\n",
       "<table border=\"1\" class=\"dataframe\">\n",
       "  <thead>\n",
       "    <tr style=\"text-align: right;\">\n",
       "      <th></th>\n",
       "      <th>County</th>\n",
       "      <th>City</th>\n",
       "      <th>State</th>\n",
       "      <th>ZIP Code</th>\n",
       "      <th>Model Year</th>\n",
       "      <th>Make</th>\n",
       "      <th>Model</th>\n",
       "      <th>Electric Vehicle Type</th>\n",
       "      <th>Clean Alternative Fuel Vehicle (CAFV) Eligibility</th>\n",
       "      <th>Electric Range</th>\n",
       "      <th>Base MSRP</th>\n",
       "    </tr>\n",
       "  </thead>\n",
       "  <tbody>\n",
       "    <tr>\n",
       "      <th>0</th>\n",
       "      <td>Jefferson</td>\n",
       "      <td>PORT TOWNSEND</td>\n",
       "      <td>WA</td>\n",
       "      <td>98368.0</td>\n",
       "      <td>2012.0</td>\n",
       "      <td>NISSAN</td>\n",
       "      <td>LEAF</td>\n",
       "      <td>Battery Electric Vehicle (BEV)</td>\n",
       "      <td>Clean Alternative Fuel Vehicle Eligible</td>\n",
       "      <td>73</td>\n",
       "      <td>0</td>\n",
       "    </tr>\n",
       "    <tr>\n",
       "      <th>1</th>\n",
       "      <td>King</td>\n",
       "      <td>ISSAQUAH</td>\n",
       "      <td>WA</td>\n",
       "      <td>98029.0</td>\n",
       "      <td>2021.0</td>\n",
       "      <td>FORD</td>\n",
       "      <td>F-150</td>\n",
       "      <td>Battery Electric Vehicle (BEV)</td>\n",
       "      <td>Eligibility unknown as battery range has not b...</td>\n",
       "      <td>0</td>\n",
       "      <td>0</td>\n",
       "    </tr>\n",
       "    <tr>\n",
       "      <th>2</th>\n",
       "      <td>Pierce</td>\n",
       "      <td>PUYALLUP</td>\n",
       "      <td>WA</td>\n",
       "      <td>98372.0</td>\n",
       "      <td>2018.0</td>\n",
       "      <td>TESLA</td>\n",
       "      <td>MODEL 3</td>\n",
       "      <td>Battery Electric Vehicle (BEV)</td>\n",
       "      <td>Clean Alternative Fuel Vehicle Eligible</td>\n",
       "      <td>215</td>\n",
       "      <td>0</td>\n",
       "    </tr>\n",
       "    <tr>\n",
       "      <th>3</th>\n",
       "      <td>Pierce</td>\n",
       "      <td>TACOMA</td>\n",
       "      <td>WA</td>\n",
       "      <td>98403.0</td>\n",
       "      <td>2021.0</td>\n",
       "      <td>TESLA</td>\n",
       "      <td>MODEL 3</td>\n",
       "      <td>Battery Electric Vehicle (BEV)</td>\n",
       "      <td>Eligibility unknown as battery range has not b...</td>\n",
       "      <td>0</td>\n",
       "      <td>0</td>\n",
       "    </tr>\n",
       "    <tr>\n",
       "      <th>4</th>\n",
       "      <td>Kitsap</td>\n",
       "      <td>BREMERTON</td>\n",
       "      <td>WA</td>\n",
       "      <td>98312.0</td>\n",
       "      <td>2021.0</td>\n",
       "      <td>TESLA</td>\n",
       "      <td>MODEL Y</td>\n",
       "      <td>Battery Electric Vehicle (BEV)</td>\n",
       "      <td>Eligibility unknown as battery range has not b...</td>\n",
       "      <td>0</td>\n",
       "      <td>0</td>\n",
       "    </tr>\n",
       "  </tbody>\n",
       "</table>\n",
       "</div>"
      ],
      "text/plain": [
       "      County           City State  ZIP Code  Model Year    Make    Model  \\\n",
       "0  Jefferson  PORT TOWNSEND    WA   98368.0      2012.0  NISSAN     LEAF   \n",
       "1       King       ISSAQUAH    WA   98029.0      2021.0    FORD    F-150   \n",
       "2     Pierce       PUYALLUP    WA   98372.0      2018.0   TESLA  MODEL 3   \n",
       "3     Pierce         TACOMA    WA   98403.0      2021.0   TESLA  MODEL 3   \n",
       "4     Kitsap      BREMERTON    WA   98312.0      2021.0   TESLA  MODEL Y   \n",
       "\n",
       "            Electric Vehicle Type  \\\n",
       "0  Battery Electric Vehicle (BEV)   \n",
       "1  Battery Electric Vehicle (BEV)   \n",
       "2  Battery Electric Vehicle (BEV)   \n",
       "3  Battery Electric Vehicle (BEV)   \n",
       "4  Battery Electric Vehicle (BEV)   \n",
       "\n",
       "   Clean Alternative Fuel Vehicle (CAFV) Eligibility  Electric Range  \\\n",
       "0            Clean Alternative Fuel Vehicle Eligible              73   \n",
       "1  Eligibility unknown as battery range has not b...               0   \n",
       "2            Clean Alternative Fuel Vehicle Eligible             215   \n",
       "3  Eligibility unknown as battery range has not b...               0   \n",
       "4  Eligibility unknown as battery range has not b...               0   \n",
       "\n",
       "   Base MSRP  \n",
       "0          0  \n",
       "1          0  \n",
       "2          0  \n",
       "3          0  \n",
       "4          0  "
      ]
     },
     "execution_count": 71,
     "metadata": {},
     "output_type": "execute_result"
    }
   ],
   "source": [
    "df2.head()"
   ]
  },
  {
   "cell_type": "code",
   "execution_count": 72,
   "id": "7b236f86",
   "metadata": {},
   "outputs": [],
   "source": [
    "df['Expected Price ($1k)'] = pd.to_numeric(df['Expected Price ($1k)'], downcast='float')"
   ]
  },
  {
   "cell_type": "code",
   "execution_count": 73,
   "id": "1548d391",
   "metadata": {},
   "outputs": [
    {
     "name": "stdout",
     "output_type": "stream",
     "text": [
      "<class 'pandas.core.frame.DataFrame'>\n",
      "Int64Index: 64340 entries, 0 to 64352\n",
      "Data columns (total 12 columns):\n",
      " #   Column                                             Non-Null Count  Dtype  \n",
      "---  ------                                             --------------  -----  \n",
      " 0   County                                             64340 non-null  object \n",
      " 1   City                                               64340 non-null  object \n",
      " 2   State                                              64340 non-null  object \n",
      " 3   ZIP Code                                           64340 non-null  float64\n",
      " 4   Model Year                                         64340 non-null  float64\n",
      " 5   Make                                               64340 non-null  object \n",
      " 6   Model                                              64340 non-null  object \n",
      " 7   Electric Vehicle Type                              64340 non-null  object \n",
      " 8   Clean Alternative Fuel Vehicle (CAFV) Eligibility  64340 non-null  object \n",
      " 9   Electric Range                                     64340 non-null  int64  \n",
      " 10  Base MSRP                                          64340 non-null  int64  \n",
      " 11  Expected Price ($1k)                               64340 non-null  float32\n",
      "dtypes: float32(1), float64(2), int64(2), object(7)\n",
      "memory usage: 6.1+ MB\n"
     ]
    }
   ],
   "source": [
    "df.info()"
   ]
  },
  {
   "cell_type": "code",
   "execution_count": 74,
   "id": "67937d46",
   "metadata": {},
   "outputs": [
    {
     "data": {
      "text/html": [
       "<div>\n",
       "<style scoped>\n",
       "    .dataframe tbody tr th:only-of-type {\n",
       "        vertical-align: middle;\n",
       "    }\n",
       "\n",
       "    .dataframe tbody tr th {\n",
       "        vertical-align: top;\n",
       "    }\n",
       "\n",
       "    .dataframe thead th {\n",
       "        text-align: right;\n",
       "    }\n",
       "</style>\n",
       "<table border=\"1\" class=\"dataframe\">\n",
       "  <thead>\n",
       "    <tr style=\"text-align: right;\">\n",
       "      <th></th>\n",
       "      <th>ZIP Code</th>\n",
       "      <th>Model Year</th>\n",
       "      <th>Electric Range</th>\n",
       "      <th>Base MSRP</th>\n",
       "      <th>Expected Price ($1k)</th>\n",
       "    </tr>\n",
       "  </thead>\n",
       "  <tbody>\n",
       "    <tr>\n",
       "      <th>count</th>\n",
       "      <td>64340.000000</td>\n",
       "      <td>64340.000000</td>\n",
       "      <td>64340.000000</td>\n",
       "      <td>64340.000000</td>\n",
       "      <td>64340.000000</td>\n",
       "    </tr>\n",
       "    <tr>\n",
       "      <th>mean</th>\n",
       "      <td>98143.413025</td>\n",
       "      <td>2018.185483</td>\n",
       "      <td>106.962916</td>\n",
       "      <td>2525.500933</td>\n",
       "      <td>45.447681</td>\n",
       "    </tr>\n",
       "    <tr>\n",
       "      <th>std</th>\n",
       "      <td>2856.215294</td>\n",
       "      <td>2.726549</td>\n",
       "      <td>104.099820</td>\n",
       "      <td>12404.096135</td>\n",
       "      <td>24.728851</td>\n",
       "    </tr>\n",
       "    <tr>\n",
       "      <th>min</th>\n",
       "      <td>745.000000</td>\n",
       "      <td>1993.000000</td>\n",
       "      <td>0.000000</td>\n",
       "      <td>0.000000</td>\n",
       "      <td>0.000000</td>\n",
       "    </tr>\n",
       "    <tr>\n",
       "      <th>25%</th>\n",
       "      <td>98052.000000</td>\n",
       "      <td>2017.000000</td>\n",
       "      <td>14.000000</td>\n",
       "      <td>0.000000</td>\n",
       "      <td>22.857000</td>\n",
       "    </tr>\n",
       "    <tr>\n",
       "      <th>50%</th>\n",
       "      <td>98121.000000</td>\n",
       "      <td>2018.000000</td>\n",
       "      <td>73.000000</td>\n",
       "      <td>0.000000</td>\n",
       "      <td>40.000000</td>\n",
       "    </tr>\n",
       "    <tr>\n",
       "      <th>75%</th>\n",
       "      <td>98370.000000</td>\n",
       "      <td>2021.000000</td>\n",
       "      <td>215.000000</td>\n",
       "      <td>0.000000</td>\n",
       "      <td>65.900002</td>\n",
       "    </tr>\n",
       "    <tr>\n",
       "      <th>max</th>\n",
       "      <td>99701.000000</td>\n",
       "      <td>2022.000000</td>\n",
       "      <td>337.000000</td>\n",
       "      <td>845000.000000</td>\n",
       "      <td>1100.000000</td>\n",
       "    </tr>\n",
       "  </tbody>\n",
       "</table>\n",
       "</div>"
      ],
      "text/plain": [
       "           ZIP Code    Model Year  Electric Range      Base MSRP  \\\n",
       "count  64340.000000  64340.000000    64340.000000   64340.000000   \n",
       "mean   98143.413025   2018.185483      106.962916    2525.500933   \n",
       "std     2856.215294      2.726549      104.099820   12404.096135   \n",
       "min      745.000000   1993.000000        0.000000       0.000000   \n",
       "25%    98052.000000   2017.000000       14.000000       0.000000   \n",
       "50%    98121.000000   2018.000000       73.000000       0.000000   \n",
       "75%    98370.000000   2021.000000      215.000000       0.000000   \n",
       "max    99701.000000   2022.000000      337.000000  845000.000000   \n",
       "\n",
       "       Expected Price ($1k)  \n",
       "count          64340.000000  \n",
       "mean              45.447681  \n",
       "std               24.728851  \n",
       "min                0.000000  \n",
       "25%               22.857000  \n",
       "50%               40.000000  \n",
       "75%               65.900002  \n",
       "max             1100.000000  "
      ]
     },
     "execution_count": 74,
     "metadata": {},
     "output_type": "execute_result"
    }
   ],
   "source": [
    "df.describe()"
   ]
  },
  {
   "cell_type": "code",
   "execution_count": 75,
   "id": "9c169600",
   "metadata": {},
   "outputs": [
    {
     "data": {
      "text/plain": [
       "<AxesSubplot:xlabel='Expected Price ($1k)'>"
      ]
     },
     "execution_count": 75,
     "metadata": {},
     "output_type": "execute_result"
    },
    {
     "data": {
      "image/png": "[encoded data removed]",
      "text/plain": [
       "<Figure size 432x288 with 1 Axes>"
      ]
     },
     "metadata": {
      "needs_background": "light"
     },
     "output_type": "display_data"
    }
   ],
   "source": [
    "sns.boxplot(x=df['Expected Price ($1k)'])"
   ]
  },
  {
   "cell_type": "code",
   "execution_count": 76,
   "id": "64fd33ec",
   "metadata": {},
   "outputs": [],
   "source": [
    "uv = np.nanpercentile(df['Expected Price ($1k)'], [99])[0]"
   ]
  },
  {
   "cell_type": "code",
   "execution_count": 77,
   "id": "503ccdcb",
   "metadata": {},
   "outputs": [
    {
     "name": "stderr",
     "output_type": "stream",
     "text": [
      "<ipython-input-77-c1974d18eb15>:1: SettingWithCopyWarning: \n",
      "A value is trying to be set on a copy of a slice from a DataFrame\n",
      "\n",
      "See the caveats in the documentation: https://pandas.pydata.org/pandas-docs/stable/user_guide/indexing.html#returning-a-view-versus-a-copy\n",
      "  df['Expected Price ($1k)'][(df['Expected Price ($1k)']>uv)] = uv\n"
     ]
    }
   ],
   "source": [
    "df['Expected Price ($1k)'][(df['Expected Price ($1k)']>uv)] = uv"
   ]
  },
  {
   "cell_type": "code",
   "execution_count": 78,
   "id": "abad9746",
   "metadata": {},
   "outputs": [
    {
     "data": {
      "text/plain": [
       "<AxesSubplot:xlabel='Expected Price ($1k)'>"
      ]
     },
     "execution_count": 78,
     "metadata": {},
     "output_type": "execute_result"
    },
    {
     "data": {
      "image/png": "[encoded data removed]",
      "text/plain": [
       "<Figure size 432x288 with 1 Axes>"
      ]
     },
     "metadata": {
      "needs_background": "light"
     },
     "output_type": "display_data"
    }
   ],
   "source": [
    "sns.boxplot(x=df['Expected Price ($1k)'])"
   ]
  },
  {
   "cell_type": "code",
   "execution_count": 79,
   "id": "fec823f8",
   "metadata": {},
   "outputs": [
    {
     "data": {
      "text/plain": [
       "<AxesSubplot:xlabel='Base MSRP'>"
      ]
     },
     "execution_count": 79,
     "metadata": {},
     "output_type": "execute_result"
    },
    {
     "data": {
      "image/png": "[encoded data removed]",
      "text/plain": [
       "<Figure size 432x288 with 1 Axes>"
      ]
     },
     "metadata": {
      "needs_background": "light"
     },
     "output_type": "display_data"
    }
   ],
   "source": [
    "sns.boxplot(x=df['Base MSRP'])"
   ]
  },
  {
   "cell_type": "code",
   "execution_count": 80,
   "id": "293dd432",
   "metadata": {},
   "outputs": [],
   "source": [
    "uv = np.nanpercentile(df['Base MSRP'], [99])[0]*2"
   ]
  },
  {
   "cell_type": "code",
   "execution_count": 81,
   "id": "74ba52a6",
   "metadata": {},
   "outputs": [
    {
     "name": "stderr",
     "output_type": "stream",
     "text": [
      "<ipython-input-81-b9431b62445c>:1: SettingWithCopyWarning: \n",
      "A value is trying to be set on a copy of a slice from a DataFrame\n",
      "\n",
      "See the caveats in the documentation: https://pandas.pydata.org/pandas-docs/stable/user_guide/indexing.html#returning-a-view-versus-a-copy\n",
      "  df['Base MSRP'][(df['Base MSRP']>uv)] = uv\n"
     ]
    }
   ],
   "source": [
    "df['Base MSRP'][(df['Base MSRP']>uv)] = uv"
   ]
  },
  {
   "cell_type": "code",
   "execution_count": 82,
   "id": "e086d29c",
   "metadata": {},
   "outputs": [
    {
     "data": {
      "text/plain": [
       "<AxesSubplot:xlabel='Base MSRP'>"
      ]
     },
     "execution_count": 82,
     "metadata": {},
     "output_type": "execute_result"
    },
    {
     "data": {
      "image/png": "[encoded data removed]",
      "text/plain": [
       "<Figure size 432x288 with 1 Axes>"
      ]
     },
     "metadata": {
      "needs_background": "light"
     },
     "output_type": "display_data"
    }
   ],
   "source": [
    "sns.boxplot(x=df['Base MSRP'])"
   ]
  },
  {
   "cell_type": "code",
   "execution_count": 83,
   "id": "2ed0262a",
   "metadata": {},
   "outputs": [
    {
     "data": {
      "text/html": [
       "<div>\n",
       "<style scoped>\n",
       "    .dataframe tbody tr th:only-of-type {\n",
       "        vertical-align: middle;\n",
       "    }\n",
       "\n",
       "    .dataframe tbody tr th {\n",
       "        vertical-align: top;\n",
       "    }\n",
       "\n",
       "    .dataframe thead th {\n",
       "        text-align: right;\n",
       "    }\n",
       "</style>\n",
       "<table border=\"1\" class=\"dataframe\">\n",
       "  <thead>\n",
       "    <tr style=\"text-align: right;\">\n",
       "      <th></th>\n",
       "      <th>ZIP Code</th>\n",
       "      <th>Model Year</th>\n",
       "      <th>Electric Range</th>\n",
       "      <th>Base MSRP</th>\n",
       "      <th>Expected Price ($1k)</th>\n",
       "    </tr>\n",
       "  </thead>\n",
       "  <tbody>\n",
       "    <tr>\n",
       "      <th>count</th>\n",
       "      <td>64340.000000</td>\n",
       "      <td>64340.000000</td>\n",
       "      <td>64340.000000</td>\n",
       "      <td>64340.000000</td>\n",
       "      <td>64340.000000</td>\n",
       "    </tr>\n",
       "    <tr>\n",
       "      <th>mean</th>\n",
       "      <td>98143.413025</td>\n",
       "      <td>2018.185483</td>\n",
       "      <td>106.962916</td>\n",
       "      <td>2508.301679</td>\n",
       "      <td>45.163029</td>\n",
       "    </tr>\n",
       "    <tr>\n",
       "      <th>std</th>\n",
       "      <td>2856.215294</td>\n",
       "      <td>2.726549</td>\n",
       "      <td>104.099820</td>\n",
       "      <td>11879.876330</td>\n",
       "      <td>23.261318</td>\n",
       "    </tr>\n",
       "    <tr>\n",
       "      <th>min</th>\n",
       "      <td>745.000000</td>\n",
       "      <td>1993.000000</td>\n",
       "      <td>0.000000</td>\n",
       "      <td>0.000000</td>\n",
       "      <td>0.000000</td>\n",
       "    </tr>\n",
       "    <tr>\n",
       "      <th>25%</th>\n",
       "      <td>98052.000000</td>\n",
       "      <td>2017.000000</td>\n",
       "      <td>14.000000</td>\n",
       "      <td>0.000000</td>\n",
       "      <td>22.857000</td>\n",
       "    </tr>\n",
       "    <tr>\n",
       "      <th>50%</th>\n",
       "      <td>98121.000000</td>\n",
       "      <td>2018.000000</td>\n",
       "      <td>73.000000</td>\n",
       "      <td>0.000000</td>\n",
       "      <td>40.000000</td>\n",
       "    </tr>\n",
       "    <tr>\n",
       "      <th>75%</th>\n",
       "      <td>98370.000000</td>\n",
       "      <td>2021.000000</td>\n",
       "      <td>215.000000</td>\n",
       "      <td>0.000000</td>\n",
       "      <td>65.900002</td>\n",
       "    </tr>\n",
       "    <tr>\n",
       "      <th>max</th>\n",
       "      <td>99701.000000</td>\n",
       "      <td>2022.000000</td>\n",
       "      <td>337.000000</td>\n",
       "      <td>139800.000000</td>\n",
       "      <td>105.000000</td>\n",
       "    </tr>\n",
       "  </tbody>\n",
       "</table>\n",
       "</div>"
      ],
      "text/plain": [
       "           ZIP Code    Model Year  Electric Range      Base MSRP  \\\n",
       "count  64340.000000  64340.000000    64340.000000   64340.000000   \n",
       "mean   98143.413025   2018.185483      106.962916    2508.301679   \n",
       "std     2856.215294      2.726549      104.099820   11879.876330   \n",
       "min      745.000000   1993.000000        0.000000       0.000000   \n",
       "25%    98052.000000   2017.000000       14.000000       0.000000   \n",
       "50%    98121.000000   2018.000000       73.000000       0.000000   \n",
       "75%    98370.000000   2021.000000      215.000000       0.000000   \n",
       "max    99701.000000   2022.000000      337.000000  139800.000000   \n",
       "\n",
       "       Expected Price ($1k)  \n",
       "count          64340.000000  \n",
       "mean              45.163029  \n",
       "std               23.261318  \n",
       "min                0.000000  \n",
       "25%               22.857000  \n",
       "50%               40.000000  \n",
       "75%               65.900002  \n",
       "max              105.000000  "
      ]
     },
     "execution_count": 83,
     "metadata": {},
     "output_type": "execute_result"
    }
   ],
   "source": [
    "df.describe()"
   ]
  },
  {
   "cell_type": "code",
   "execution_count": 84,
   "id": "86ced4cb",
   "metadata": {},
   "outputs": [
    {
     "data": {
      "text/html": [
       "<div>\n",
       "<style scoped>\n",
       "    .dataframe tbody tr th:only-of-type {\n",
       "        vertical-align: middle;\n",
       "    }\n",
       "\n",
       "    .dataframe tbody tr th {\n",
       "        vertical-align: top;\n",
       "    }\n",
       "\n",
       "    .dataframe thead th {\n",
       "        text-align: right;\n",
       "    }\n",
       "</style>\n",
       "<table border=\"1\" class=\"dataframe\">\n",
       "  <thead>\n",
       "    <tr style=\"text-align: right;\">\n",
       "      <th></th>\n",
       "      <th>ZIP Code</th>\n",
       "      <th>Model Year</th>\n",
       "      <th>Electric Range</th>\n",
       "      <th>Base MSRP</th>\n",
       "      <th>Expected Price ($1k)</th>\n",
       "    </tr>\n",
       "  </thead>\n",
       "  <tbody>\n",
       "    <tr>\n",
       "      <th>ZIP Code</th>\n",
       "      <td>1.000000</td>\n",
       "      <td>-0.003765</td>\n",
       "      <td>-0.010227</td>\n",
       "      <td>-0.000150</td>\n",
       "      <td>-0.006954</td>\n",
       "    </tr>\n",
       "    <tr>\n",
       "      <th>Model Year</th>\n",
       "      <td>-0.003765</td>\n",
       "      <td>1.000000</td>\n",
       "      <td>-0.080465</td>\n",
       "      <td>-0.226949</td>\n",
       "      <td>0.570594</td>\n",
       "    </tr>\n",
       "    <tr>\n",
       "      <th>Electric Range</th>\n",
       "      <td>-0.010227</td>\n",
       "      <td>-0.080465</td>\n",
       "      <td>1.000000</td>\n",
       "      <td>0.056520</td>\n",
       "      <td>0.238468</td>\n",
       "    </tr>\n",
       "    <tr>\n",
       "      <th>Base MSRP</th>\n",
       "      <td>-0.000150</td>\n",
       "      <td>-0.226949</td>\n",
       "      <td>0.056520</td>\n",
       "      <td>1.000000</td>\n",
       "      <td>-0.127201</td>\n",
       "    </tr>\n",
       "    <tr>\n",
       "      <th>Expected Price ($1k)</th>\n",
       "      <td>-0.006954</td>\n",
       "      <td>0.570594</td>\n",
       "      <td>0.238468</td>\n",
       "      <td>-0.127201</td>\n",
       "      <td>1.000000</td>\n",
       "    </tr>\n",
       "  </tbody>\n",
       "</table>\n",
       "</div>"
      ],
      "text/plain": [
       "                      ZIP Code  Model Year  Electric Range  Base MSRP  \\\n",
       "ZIP Code              1.000000   -0.003765       -0.010227  -0.000150   \n",
       "Model Year           -0.003765    1.000000       -0.080465  -0.226949   \n",
       "Electric Range       -0.010227   -0.080465        1.000000   0.056520   \n",
       "Base MSRP            -0.000150   -0.226949        0.056520   1.000000   \n",
       "Expected Price ($1k) -0.006954    0.570594        0.238468  -0.127201   \n",
       "\n",
       "                      Expected Price ($1k)  \n",
       "ZIP Code                         -0.006954  \n",
       "Model Year                        0.570594  \n",
       "Electric Range                    0.238468  \n",
       "Base MSRP                        -0.127201  \n",
       "Expected Price ($1k)              1.000000  "
      ]
     },
     "execution_count": 84,
     "metadata": {},
     "output_type": "execute_result"
    }
   ],
   "source": [
    "df.corr()"
   ]
  },
  {
   "cell_type": "code",
   "execution_count": 85,
   "id": "fa31e9f7",
   "metadata": {},
   "outputs": [
    {
     "data": {
      "text/plain": [
       "<seaborn.axisgrid.JointGrid at 0x20bbaf295e0>"
      ]
     },
     "execution_count": 85,
     "metadata": {},
     "output_type": "execute_result"
    },
    {
     "data": {
      "image/png": "[encoded data removed]",
      "text/plain": [
       "<Figure size 432x432 with 3 Axes>"
      ]
     },
     "metadata": {
      "needs_background": "light"
     },
     "output_type": "display_data"
    }
   ],
   "source": [
    "sns.jointplot(x='Base MSRP', y='Expected Price ($1k)', data = df)"
   ]
  },
  {
   "cell_type": "code",
   "execution_count": 86,
   "id": "a8d58844",
   "metadata": {},
   "outputs": [
    {
     "data": {
      "text/html": [
       "<div>\n",
       "<style scoped>\n",
       "    .dataframe tbody tr th:only-of-type {\n",
       "        vertical-align: middle;\n",
       "    }\n",
       "\n",
       "    .dataframe tbody tr th {\n",
       "        vertical-align: top;\n",
       "    }\n",
       "\n",
       "    .dataframe thead th {\n",
       "        text-align: right;\n",
       "    }\n",
       "</style>\n",
       "<table border=\"1\" class=\"dataframe\">\n",
       "  <thead>\n",
       "    <tr style=\"text-align: right;\">\n",
       "      <th></th>\n",
       "      <th>County</th>\n",
       "      <th>City</th>\n",
       "      <th>State</th>\n",
       "      <th>ZIP Code</th>\n",
       "      <th>Model Year</th>\n",
       "      <th>Make</th>\n",
       "      <th>Model</th>\n",
       "      <th>Electric Vehicle Type</th>\n",
       "      <th>Clean Alternative Fuel Vehicle (CAFV) Eligibility</th>\n",
       "      <th>Electric Range</th>\n",
       "      <th>Base MSRP</th>\n",
       "    </tr>\n",
       "  </thead>\n",
       "  <tbody>\n",
       "    <tr>\n",
       "      <th>0</th>\n",
       "      <td>Snohomish</td>\n",
       "      <td>LYNNWOOD</td>\n",
       "      <td>WA</td>\n",
       "      <td>98037.0</td>\n",
       "      <td>2020.0</td>\n",
       "      <td>TESLA</td>\n",
       "      <td>MODEL 3</td>\n",
       "      <td>Battery Electric Vehicle (BEV)</td>\n",
       "      <td>Clean Alternative Fuel Vehicle Eligible</td>\n",
       "      <td>308</td>\n",
       "      <td>0</td>\n",
       "    </tr>\n",
       "    <tr>\n",
       "      <th>1</th>\n",
       "      <td>Skagit</td>\n",
       "      <td>BELLINGHAM</td>\n",
       "      <td>WA</td>\n",
       "      <td>98229.0</td>\n",
       "      <td>2011.0</td>\n",
       "      <td>NISSAN</td>\n",
       "      <td>LEAF</td>\n",
       "      <td>Battery Electric Vehicle (BEV)</td>\n",
       "      <td>Clean Alternative Fuel Vehicle Eligible</td>\n",
       "      <td>73</td>\n",
       "      <td>0</td>\n",
       "    </tr>\n",
       "    <tr>\n",
       "      <th>2</th>\n",
       "      <td>Pierce</td>\n",
       "      <td>TACOMA</td>\n",
       "      <td>WA</td>\n",
       "      <td>98422.0</td>\n",
       "      <td>2015.0</td>\n",
       "      <td>BMW</td>\n",
       "      <td>I3</td>\n",
       "      <td>Battery Electric Vehicle (BEV)</td>\n",
       "      <td>Clean Alternative Fuel Vehicle Eligible</td>\n",
       "      <td>81</td>\n",
       "      <td>0</td>\n",
       "    </tr>\n",
       "    <tr>\n",
       "      <th>3</th>\n",
       "      <td>King</td>\n",
       "      <td>REDMOND</td>\n",
       "      <td>WA</td>\n",
       "      <td>98053.0</td>\n",
       "      <td>2013.0</td>\n",
       "      <td>CHEVROLET</td>\n",
       "      <td>VOLT</td>\n",
       "      <td>Plug-in Hybrid Electric Vehicle (PHEV)</td>\n",
       "      <td>Clean Alternative Fuel Vehicle Eligible</td>\n",
       "      <td>38</td>\n",
       "      <td>0</td>\n",
       "    </tr>\n",
       "    <tr>\n",
       "      <th>4</th>\n",
       "      <td>Pierce</td>\n",
       "      <td>PUYALLUP</td>\n",
       "      <td>WA</td>\n",
       "      <td>98375.0</td>\n",
       "      <td>2019.0</td>\n",
       "      <td>CHEVROLET</td>\n",
       "      <td>BOLT EV</td>\n",
       "      <td>Battery Electric Vehicle (BEV)</td>\n",
       "      <td>Clean Alternative Fuel Vehicle Eligible</td>\n",
       "      <td>238</td>\n",
       "      <td>0</td>\n",
       "    </tr>\n",
       "  </tbody>\n",
       "</table>\n",
       "</div>"
      ],
      "text/plain": [
       "      County        City State  ZIP Code  Model Year       Make    Model  \\\n",
       "0  Snohomish    LYNNWOOD    WA   98037.0      2020.0      TESLA  MODEL 3   \n",
       "1     Skagit  BELLINGHAM    WA   98229.0      2011.0     NISSAN     LEAF   \n",
       "2     Pierce      TACOMA    WA   98422.0      2015.0        BMW       I3   \n",
       "3       King     REDMOND    WA   98053.0      2013.0  CHEVROLET     VOLT   \n",
       "4     Pierce    PUYALLUP    WA   98375.0      2019.0  CHEVROLET  BOLT EV   \n",
       "\n",
       "                    Electric Vehicle Type  \\\n",
       "0          Battery Electric Vehicle (BEV)   \n",
       "1          Battery Electric Vehicle (BEV)   \n",
       "2          Battery Electric Vehicle (BEV)   \n",
       "3  Plug-in Hybrid Electric Vehicle (PHEV)   \n",
       "4          Battery Electric Vehicle (BEV)   \n",
       "\n",
       "  Clean Alternative Fuel Vehicle (CAFV) Eligibility  Electric Range  Base MSRP  \n",
       "0           Clean Alternative Fuel Vehicle Eligible             308          0  \n",
       "1           Clean Alternative Fuel Vehicle Eligible              73          0  \n",
       "2           Clean Alternative Fuel Vehicle Eligible              81          0  \n",
       "3           Clean Alternative Fuel Vehicle Eligible              38          0  \n",
       "4           Clean Alternative Fuel Vehicle Eligible             238          0  "
      ]
     },
     "execution_count": 86,
     "metadata": {},
     "output_type": "execute_result"
    }
   ],
   "source": [
    "t=df.drop('Expected Price ($1k)', axis=1)\n",
    "t=t.append(df2)\n",
    "t.head()"
   ]
  },
  {
   "cell_type": "code",
   "execution_count": 87,
   "id": "7460115b",
   "metadata": {},
   "outputs": [],
   "source": [
    "y = df['Expected Price ($1k)']\n",
    "x = df.drop('Expected Price ($1k)', axis = 1)"
   ]
  },
  {
   "cell_type": "code",
   "execution_count": 88,
   "id": "4d20307e",
   "metadata": {},
   "outputs": [
    {
     "name": "stdout",
     "output_type": "stream",
     "text": [
      "['Adams' 'Alameda' 'Albemarle' 'Alexandria City' 'Allegheny' 'Anchorage'\n",
      " 'Anne Arundel' 'Asotin' 'Baltimore' 'Bartow' 'Bay' 'Bell' 'Benton'\n",
      " 'Bexar' 'Boone' 'Bradley' 'Bryan' 'Caddo' 'Calvert' 'Camden' 'Carroll'\n",
      " 'Carson City' 'Charles' 'Chaves' 'Chelan' 'Chesapeake City' 'Clackamas'\n",
      " 'Clallam' 'Clark' 'Columbia' 'Coryell' 'Cowlitz' 'Cumberland'\n",
      " 'Danville City' 'Davidson' 'Dekalb' 'Denton' 'District Of Columbia'\n",
      " 'Douglas' 'Dupage' 'Duval' 'El Paso' 'Erie' 'Fairbanks North Star'\n",
      " 'Fairfax' 'Ferry' 'Flathead' 'Franklin' 'Frederick' 'Fresno' 'Garfield'\n",
      " 'Glacier' 'Goochland' 'Grant' 'Grays Harbor' 'Greene' 'Guadalupe'\n",
      " 'Hamilton' 'Harris' 'Harrison' 'Hennepin' 'Hidalgo' 'Hillsborough'\n",
      " 'Honolulu' 'Houdson' 'Howard' 'Hudson' 'Humacao' 'Island' 'Jefferson'\n",
      " 'Kent' 'Kern' 'King' 'Kings' 'Kitsap' 'Kittitas' 'Klamath' 'Klickitat'\n",
      " 'Lake' 'Laramie' 'Leavenworth' 'Lewis' 'Liberty' 'Lincoln' 'Los Angeles'\n",
      " 'Manassas City' 'Maricopa' 'Marin' 'Mason' 'Mecklenburg' 'Monterey'\n",
      " 'Montgomery' 'Moore' 'Multnomah' 'Muscogee' 'New Castle' 'New London'\n",
      " 'Newport' 'Norfolk City' 'Nueces' 'Okanogan' 'Oldham' 'Orange' 'Otero'\n",
      " 'Ozaukee' 'Pacific' 'Palm Beach' 'Passaic' 'Pend Oreille' 'Pennington'\n",
      " 'Philadelphia' 'Pierce' 'Pima' 'Pinellas' 'Placer' 'Plaquemines' 'Platte'\n",
      " 'Powhatan' 'Prince Georges' 'Prince William' 'Queens' 'Riley' 'Riverside'\n",
      " 'Rock Island' 'Rockingham' 'Sacramento' 'Saint Clair' 'Saint Louis City'\n",
      " 'Saint Marys' 'Salt Lake' 'San Bernardino' 'San Diego' 'San Francisco'\n",
      " 'San Juan' 'Santa Clara' 'Santa Cruz' 'Sarasota' 'Sarpy' 'Shelby'\n",
      " 'Skagit' 'Skamania' 'Snohomish' 'SouthWest' 'Spokane' 'Stafford'\n",
      " 'Stevens' 'Suffolk' 'Suffolk City' 'Thurston' 'Tipton' 'Ventura' 'Vigo'\n",
      " 'Virginia Beach City' 'Wahkiakum' 'Wake' 'Walla Walla' 'Washoe' 'Whatcom'\n",
      " 'Whitman' 'Wichita' 'Williams' 'Wilson' 'Yakima' 'Yamhill']\n",
      "['ABERDEEN' 'ACME' 'ADAIRSVILLE' 'ADDY' 'AIRWAY HEIGHTS' 'ALAMEDA'\n",
      " 'ALEXANDRIA' 'ALGONA' 'ALHAMBRA' 'ALISO VIEJO' 'ALLENHURST' 'ALLYN'\n",
      " 'ALMIRA' 'AMANDA PARK' 'AMBOY' 'ANACORTES' 'ANDERSON ISLAND' 'ANNANDALE'\n",
      " 'ANNAPOLIS' 'ANTHEM' 'APO' 'APPLE VALLEY' 'ARIEL' 'ARLINGTON' 'ARNOLD'\n",
      " 'ASHFORD' 'ASOTIN' 'ATOKA' 'AUBURN' 'BAINBRIDGE IS' 'BAINBRIDGE ISLAND'\n",
      " 'BARING' 'BATTLE GROUND' 'BAY CENTER' 'BEAUX ARTS' 'BEAVER' 'BELFAIR'\n",
      " 'BELLE CHASSE' 'BELLEVILLE' 'BELLEVUE' 'BELLINGHAM' 'BENTON CITY'\n",
      " 'BETHEL' 'BETHESDA' 'BICKLETON' 'BILOXI' 'BINGEN' 'BLACK DIAMOND'\n",
      " 'BLAINE' 'BONNEY LAKE' 'BOSTON' 'BOTHELL' 'BOW' 'BREMERTON' 'BREWSTER'\n",
      " 'BRIER' 'BRINNON' 'BROOKLYN' 'BROWNING' 'BRUSH PRAIRIE' 'BUCKLEY'\n",
      " 'BUCODA' 'BUENA PARK' 'BURBANK' 'BURIEN' 'BURKE' 'BURLINGTON'\n",
      " 'CALIFORNIA' 'CAMANO ISLAND' 'CAMARILLO' 'CAMAS' 'CARBONADO' 'CARLTON'\n",
      " 'CARMEL' 'CARNATION' 'CARROLLS' 'CARSON' 'CARSON CITY' 'CASHMERE'\n",
      " 'CASTLE ROCK' 'CATHLAMET' 'CEDARBURG' 'CENTERVILLE' 'CENTRALIA'\n",
      " 'CHARLOTTE' 'CHARLOTTESVILLE' 'CHATTAROY' 'CHEHALIS' 'CHELAN' 'CHENEY'\n",
      " 'CHESAPEAKE' 'CHESAPEAKE BEACH' 'CHEWELAH' 'CHEYENNE' 'CHIMACUM' 'CHINO'\n",
      " 'CHINOOK' 'CHUGIAK' 'CHULA VISTA' 'CINEBAR' 'CLALLAM BAY' 'CLARKSTON'\n",
      " 'CLAYMONT' 'CLAYTON' 'CLE ELUM' 'CLEARLAKE' 'CLEVELAND' 'CLINTON'\n",
      " 'CLOVIS' 'CLYDE HILL' 'COLBERT' 'COLFAX' 'COLLEGE PLACE' 'COLORADO SPGS'\n",
      " 'COLORADO SPRINGS' 'COLTON' 'COLUMBIA' 'COLUMBUS' 'COLVILLE' 'CONCRETE'\n",
      " 'CONNELL' 'COOK' 'COPALIS BEACH' 'COPALIS CROSSING' 'CORONADO'\n",
      " 'CORPUS CHRISTI' 'COSMOPOLIS' 'COSTA MESA' 'COUGAR' 'COULEE CITY'\n",
      " 'COULEE DAM' 'COUPEVILLE' 'COVINGTON' 'CRESTON' 'CURLEW' 'CURTIS'\n",
      " 'CUSICK' 'CUSTER' 'DALLESPORT' 'DANVILLE' 'DARRINGTON' 'DAVENPORT'\n",
      " 'DAYTON' 'DECATUR' 'DEER HARBOR' 'DEER MEADOWS' 'DEER PARK' 'DEMING'\n",
      " 'DES MOINES' 'DESERT AIRE' 'DIBERVILLE' 'DORCHESTER' 'DPO' 'DUPONT'\n",
      " 'DUVALL' 'EAST WENATCHEE' 'EASTON' 'EASTSOUND' 'EATONVILLE' 'EDGEWATER'\n",
      " 'EDGEWOOD' 'EDMONDS' 'EDWALL' 'EL PASO' 'ELECTRIC CITY' 'ELK' 'ELKTON'\n",
      " 'ELLENSBURG' 'ELMA' 'ELTOPIA' 'ENDICOTT' 'ENTIAT' 'ENUMCLAW' 'EPHRATA'\n",
      " 'ETHEL' 'EVANS' 'EVERETT' 'EVERSON' 'EWA BEACH' 'FAIRBANKS'\n",
      " 'FAIRCHILD AIR FORCE BASE' 'FAIRFAX' 'FAIRFIELD' 'FALL CITY' 'FARMINGTON'\n",
      " 'FAYETTEVILLE' 'FEDERAL WAY' 'FERNDALE' 'FIFE' 'FIRCREST' 'FORD'\n",
      " 'FOREST PARK' 'FORKS' 'FORT BELVOIR' 'FORT BRAGG' 'FORT LEWIS'\n",
      " 'FORT WASHINGTON' 'FOX ISLAND' 'FPO' 'FREDERICK' 'FREDERICKSBURG'\n",
      " 'FREELAND' 'FRIDAY HARBOR' 'FRUITLAND' 'GAITHERSBURG' 'GAMBRILLS'\n",
      " 'GARDENA' 'GARFIELD' 'GERMANTOWN' 'GIFFORD' 'GIG HARBOR' 'GLENELG'\n",
      " 'GLENWOOD' 'GOLD BAR' 'GOLDENDALE' 'GOSHEN' 'GRAHAM' 'GRAND COULEE'\n",
      " 'GRAND ISLAND' 'GRANDVIEW' 'GRANGER' 'GRANITE FALLS' 'GRAPEVIEW'\n",
      " 'GRAYLAND' 'GRAYS RIVER' 'GREEN VALLEY' 'GREENACRES' 'GREENBANK' 'GROTON'\n",
      " 'GROVETOWN' 'HADDONFIELD' 'HANSVILLE' 'HARKER HEIGHTS' 'HARRINGTON'\n",
      " 'HIGHLAND PARK' 'HOBART' 'HOLLOMAN AIR FORCE BASE' 'HOLLYWOOD' 'HONOLULU'\n",
      " 'HOODSPORT' 'HOQUIAM' 'HOUSTON' 'HUGHESVILLE' 'HUMPTULIPS' 'HUNTERS'\n",
      " 'HUNTS POINT' 'HUSUM' 'ILWACO' 'INCHELIUM' 'INDIAN WELLS' 'INDIANOLA'\n",
      " 'IONE' 'ISSAQUAH' 'JACKSONVILLE' 'JAMAICA' 'JBLM'\n",
      " 'JOINT BASE LEWIS MCCHORD' 'KAILUA' 'KALAMA' 'KELSO' 'KENMORE'\n",
      " 'KENNEWICK' 'KENT' 'KETTLE FALLS' 'KEYPORT' 'KINGSTON' 'KIRKLAND'\n",
      " 'KITTITAS' 'KLAMATH FALLS' 'KLICKITAT' 'KOKOMO' 'LA CENTER' 'LA CONNER'\n",
      " 'LACEY' 'LAKE FOREST PARK' 'LAKE STEVENS' 'LAKE TAPPS' 'LAKEBAY'\n",
      " 'LAKESIDE' 'LAKEWOOD' 'LAMONT' 'LANCASTER' 'LANGLEY' 'LANSING'\n",
      " 'LAS VEGAS' 'LAUGHLIN' 'LAYTONSVILLE' 'LEAVENWORTH' 'LEMOORE'\n",
      " 'LEWIS MCCHORD' 'LEXINGTON PK' 'LIBERTY LAKE' 'LILLIWAUP' 'LITTLE ELM'\n",
      " 'LITTLEROCK' 'LONG BEACH' 'LONGBRANCH' 'LONGVIEW' 'LOON LAKE'\n",
      " 'LOPEZ ISLAND' 'LUMMI ISLAND' 'LYLE' 'LYNDEN' 'LYNNWOOD' 'MABTON'\n",
      " 'MAGNOLIA' 'MAITLAND' 'MALAGA' 'MANASSAS' 'MANHATTAN' 'MANSFIELD'\n",
      " 'MANSON' 'MAPLE FALLS' 'MAPLE VALLEY' 'MARBLEMOUNT' 'MARYSVILLE'\n",
      " 'MATLOCK' 'MATTAWA' 'MAZAMA' 'MCALLEN' 'MCCHORD AFB' 'MCCLEARY' 'MEAD'\n",
      " 'MEDICAL LAKE' 'MEDINA' 'MERCER ISLAND' 'MESA' 'METHOW' 'MICA'\n",
      " 'MIDDLETOWN' 'MILL CREEK' 'MILLWOOD' 'MILTON' 'MINERAL' 'MINNEAPOLIS'\n",
      " 'MOCLIPS' 'MONROE' 'MONTEREY' 'MONTESANO' 'MONTGOMERY' 'MORTON'\n",
      " 'MOSES LAKE' 'MOSSYROCK' 'MOUNT VERNON' 'MOUNTLAKE TERRACE' 'MOXEE'\n",
      " 'MUKILTEO' 'NACHES' 'NAPAVINE' 'NASELLE' 'NASHVILLE' 'NEAH BAY' 'NEILTON'\n",
      " 'NEWBERG' 'NEWCASTLE' 'NEWMAN LAKE' 'NEWPORT' 'NEWPORT BEACH'\n",
      " 'NINE MILE FALLS' 'NOOKSACK' 'NORDLAND' 'NORFOLK' 'NORMANDY PARK'\n",
      " 'NORRISTOWN' 'NORTH BEND' 'NORTH BONNEVILLE' 'NORTH LAS VEGAS'\n",
      " 'OAK HARBOR' 'OAK RIDGE' 'OAKVILLE' 'OCEAN CITY' 'OCEAN PARK'\n",
      " 'OCEAN SHORES' 'OCEANSIDE' 'OKANOGAN' 'OLALLA' 'OLD LYME' 'OLGA'\n",
      " 'OLYMPIA' 'OMAHA' 'OMAK' 'ONALASKA' 'ORCAS' 'ORONDO' 'OROVILLE' 'ORTING'\n",
      " 'OTHELLO' 'OTIS ORCHARDS' 'OUTLOOK' 'OYSTERVILLE' 'PACIFIC'\n",
      " 'PACIFIC BEACH' 'PACKWOOD' 'PALISADES' 'PALM HARBOR' 'PALO ALTO'\n",
      " 'PALOUSE' 'PANAMA CITY' 'PAPILLION' 'PASADENA' 'PASCO' 'PATEROS'\n",
      " 'PATERSON' 'PAWCATUCK' 'PESHASTIN' 'PHILADELPHIA' 'PLATTE CITY'\n",
      " 'POINT ROBERTS' 'POMEROY' 'PORT ANGELES' 'PORT HADLOCK' 'PORT HUENEME'\n",
      " 'PORT LUDLOW' 'PORT ORCHARD' 'PORT TOBACCO' 'PORT TOWNSEND' 'PORTLAND'\n",
      " 'PORTSMOUTH' 'POTOMAC' 'POULSBO' 'POWHATAN' 'PRESCOTT' 'PRESTON'\n",
      " 'PROSSER' 'PULLMAN' 'PURMELA' 'PUYALLUP' 'QUIL CEDA VILLAGE' 'QUILCENE'\n",
      " 'QUINAULT' 'QUINCY' 'RAINIER' 'RALEIGH' 'RANDLE' 'RAPID CITY'\n",
      " 'RAVENSDALE' 'RAYMOND' 'REARDAN' 'REDMOND' 'RENO' 'RENTON' 'REPUBLIC'\n",
      " 'RICE' 'RICHLAND' 'RICHMOND' 'RICHMOND HILL' 'RIDGECREST' 'RIDGEFIELD'\n",
      " 'RIO GRANDE' 'RITZVILLE' 'RIVERSIDE' 'ROCHE HARBOR' 'ROCHESTER'\n",
      " 'ROCK ISLAND' 'ROCKFORD' 'ROGERSVILLE' 'RONALD' 'ROOSEVELT' 'ROSALIA'\n",
      " 'ROSEVILLE' 'ROSLYN' 'ROSWELL' 'ROY' 'ROYAL CITY' 'RUSKIN' 'RUSTON'\n",
      " 'RYDERWOOD' 'SACRAMENTO' 'SAINT JOHN' 'SAINT LOUIS' 'SAINT MARYS'\n",
      " 'SALKUM' 'SAMMAMISH' 'SAN ANTONIO' 'SAN DIEGO' 'SAN FRANCISCO'\n",
      " 'SAN JACINTO' 'SAN JOSE' 'SAN PEDRO' 'SAN RAFAEL' 'SANDY SPRING'\n",
      " 'SANTA CLARA' 'SANTA CRUZ' 'SARASOTA' 'SATSOP' 'SCHERTZ' 'SEABECK'\n",
      " 'SEATAC' 'SEATTLE' 'SEAVIEW' 'SECAUCUS' 'SEDRO WOOLLEY' 'SEKIU' 'SELAH'\n",
      " 'SEQUIM' 'SEVEN BAYS' 'SHAW ISLAND' 'SHELTON' 'SHORELINE' 'SHREVEPORT'\n",
      " 'SIDNEY' 'SILVER CREEK' 'SILVER SPRING' 'SILVERDALE' 'SILVERLAKE'\n",
      " 'SKAMOKAWA' 'SKOKOMISH NATION' 'SKYKOMISH' 'SNOHOMISH' 'SNOQUALMIE'\n",
      " 'SNOQUALMIE PASS' 'SOAP LAKE' 'SOUTH BEND' 'SOUTH CLE ELUM' 'SOUTH HILL'\n",
      " 'SOUTH PRAIRIE' 'SOUTHERN PINES' 'SOUTHWORTH' 'SPANAWAY' 'SPANGLE'\n",
      " 'SPARKS GLENCOE' 'SPOKANE' 'SPOKANE VALLEY' 'SPRAGUE' 'SPRINGDALE'\n",
      " 'SPRINGFIELD' 'STAFFORD' 'STANWOOD' 'STEILACOOM' 'STEVENSON' 'SUFFOLK'\n",
      " 'SULTAN' 'SUMAS' 'SUMNER' 'SUNNYSIDE' 'SUQUAMISH' 'TACOMA' 'TAHOLAH'\n",
      " 'TAHUYA' 'TAYLORSVILLE' 'TEKOA' 'TENINO' 'TERRE HAUTE' 'THORP' 'TIETON'\n",
      " 'TOKELAND' 'TOLEDO' 'TONASKET' 'TOPPENISH' 'TOUCHET' 'TOUTLE' 'TOWNSEND'\n",
      " 'TROUT LAKE' 'TUKWILA' 'TULALIP' 'TUMTUM' 'TUMWATER' 'TWISP' 'UNDERWOOD'\n",
      " 'UNION' 'UNION GAP' 'UNIVERSITY PLACE' 'VADER' 'VALLEY' 'VALLEYFORD'\n",
      " 'VANCOUVER' 'VASHON' 'VAUGHN' 'VERADALE' 'VIENNA' 'VIRGINIA BEACH'\n",
      " 'VISTA' 'WAHKIACUS' 'WAITSBURG' 'WALDORF' 'WALDRON' 'WALLA WALLA'\n",
      " 'WAPATO' 'WARDEN' 'WASHINGTON' 'WASHOUGAL' 'WATERVILLE' 'WELLPINIT'\n",
      " 'WENATCHEE' 'WEST HOLLYWOOD' 'WEST LINN' 'WEST RICHLAND' 'WEST VALLEY'\n",
      " 'WESTMINSTER' 'WESTMONT' 'WESTPORT' 'WEXFORD' 'WHITE SALMON' 'WHITE SWAN'\n",
      " 'WHITEFISH' 'WICHITA FALLS' 'WILBUR' 'WILKESON' 'WILLISTON' 'WILSON'\n",
      " 'WINCHESTER' 'WINLOCK' 'WINTHROP' 'WISHRAM' 'WOODBRIDGE' 'WOODINVILLE'\n",
      " 'WOODLAND' 'WOODWAY' 'YACOLT' 'YAKIMA' 'YARROW POINT' 'YELM' 'YERMO'\n",
      " 'ZILLAH']\n",
      "['AE' 'AK' 'AL' 'AP' 'AZ' 'CA' 'CO' 'CT' 'DC' 'DE' 'FL' 'GA' 'HI' 'IL'\n",
      " 'IN' 'KS' 'KY' 'LA' 'MA' 'MD' 'MN' 'MO' 'MS' 'MT' 'NC' 'ND' 'NE' 'NH'\n",
      " 'NJ' 'NM' 'NV' 'NY' 'OH' 'OR' 'PA' 'PR' 'RI' 'SD' 'TN' 'TX' 'UT' 'VA'\n",
      " 'WA' 'WI' 'WY']\n",
      "[  745.  2124.  2127.  2842.  3801.  6340.  6371.  6379.  7094.  7438.\n",
      "  8033.  9751.  9753. 11201. 11436. 14072. 15090. 19034. 19122. 19403.\n",
      " 19703. 19962. 20002. 20009. 20017. 20024. 20110. 20603. 20619. 20636.\n",
      " 20637. 20653. 20677. 20732. 20744. 20814. 20854. 20860. 20876. 20878.\n",
      " 20882. 20910. 21012. 21037. 21054. 21122. 21152. 21157. 21401. 21701.\n",
      " 21704. 21737. 22003. 22015. 22032. 22060. 22153. 22180. 22191. 22193.\n",
      " 22301. 22308. 22312. 22314. 22405. 22554. 22903. 22911. 23139. 23238.\n",
      " 23321. 23324. 23435. 23462. 23464. 23517. 23518. 24541. 27601. 27893.\n",
      " 28208. 28305. 28307. 28311. 28387. 30030. 30103. 30813. 31301. 31324.\n",
      " 31558. 31909. 32226. 32401. 32751. 33415. 33570. 34242. 34685. 36115.\n",
      " 37221. 37323. 38004. 39531. 39540. 40026. 45365. 46032. 46901. 47807.\n",
      " 53012. 55407. 57701. 58801. 59417. 59937. 60035. 60559. 61201. 62220.\n",
      " 63137. 64079. 65201. 65742. 66043. 66503. 68102. 68130. 68133. 68135.\n",
      " 70037. 71104. 75068. 76310. 76548. 76566. 77042. 78154. 78209. 78214.\n",
      " 78251. 78258. 78405. 78501. 79911. 80906. 80919. 82001. 84128. 84129.\n",
      " 85086. 85622. 88201. 88330. 89029. 89084. 89107. 89138. 89146. 89521.\n",
      " 89706. 90038. 90249. 90620. 90732. 90802. 91708. 91801. 91910. 91913.\n",
      " 92040. 92056. 92058. 92081. 92101. 92102. 92103. 92106. 92109. 92118.\n",
      " 92123. 92124. 92127. 92130. 92131. 92210. 92308. 92398. 92582. 92596.\n",
      " 92626. 92656. 92660. 93010. 93041. 93245. 93536. 93555. 93619. 93940.\n",
      " 94123. 94303. 94501. 94901. 95054. 95062. 95134. 95747. 95817. 96319.\n",
      " 96349. 96530. 96620. 96662. 96678. 96706. 96734. 96814. 96817. 97068.\n",
      " 97132. 97202. 97214. 97218. 97239. 97436. 97601. 98001. 98002. 98003.\n",
      " 98004. 98005. 98006. 98007. 98008. 98010. 98011. 98012. 98014. 98015.\n",
      " 98019. 98020. 98021. 98022. 98023. 98024. 98025. 98026. 98027. 98028.\n",
      " 98029. 98030. 98031. 98032. 98033. 98034. 98036. 98037. 98038. 98039.\n",
      " 98040. 98042. 98043. 98045. 98047. 98050. 98051. 98052. 98053. 98055.\n",
      " 98056. 98057. 98058. 98059. 98065. 98068. 98070. 98072. 98074. 98075.\n",
      " 98077. 98082. 98083. 98087. 98092. 98101. 98102. 98103. 98104. 98105.\n",
      " 98106. 98107. 98108. 98109. 98110. 98112. 98115. 98116. 98117. 98118.\n",
      " 98119. 98121. 98122. 98124. 98125. 98126. 98133. 98134. 98136. 98144.\n",
      " 98146. 98148. 98155. 98158. 98164. 98166. 98168. 98177. 98178. 98188.\n",
      " 98198. 98199. 98201. 98203. 98204. 98206. 98207. 98208. 98220. 98221.\n",
      " 98223. 98224. 98225. 98226. 98227. 98229. 98230. 98232. 98233. 98235.\n",
      " 98236. 98237. 98239. 98240. 98241. 98243. 98244. 98245. 98247. 98248.\n",
      " 98249. 98250. 98251. 98252. 98253. 98257. 98258. 98260. 98261. 98262.\n",
      " 98264. 98266. 98267. 98270. 98271. 98272. 98273. 98274. 98275. 98276.\n",
      " 98277. 98278. 98279. 98280. 98281. 98282. 98284. 98286. 98288. 98290.\n",
      " 98291. 98292. 98294. 98295. 98296. 98297. 98303. 98304. 98305. 98310.\n",
      " 98311. 98312. 98314. 98315. 98320. 98321. 98323. 98325. 98326. 98327.\n",
      " 98328. 98329. 98331. 98332. 98333. 98335. 98337. 98338. 98339. 98340.\n",
      " 98342. 98345. 98346. 98349. 98351. 98354. 98355. 98356. 98357. 98358.\n",
      " 98359. 98360. 98361. 98362. 98363. 98365. 98366. 98367. 98368. 98370.\n",
      " 98371. 98372. 98373. 98374. 98375. 98376. 98377. 98380. 98381. 98382.\n",
      " 98383. 98385. 98386. 98387. 98388. 98390. 98391. 98392. 98394. 98396.\n",
      " 98402. 98403. 98404. 98405. 98406. 98407. 98408. 98409. 98418. 98421.\n",
      " 98422. 98424. 98431. 98433. 98438. 98439. 98443. 98444. 98445. 98446.\n",
      " 98465. 98466. 98467. 98498. 98499. 98501. 98502. 98503. 98504. 98506.\n",
      " 98507. 98508. 98512. 98513. 98516. 98520. 98524. 98526. 98527. 98528.\n",
      " 98530. 98531. 98532. 98533. 98535. 98536. 98537. 98538. 98541. 98542.\n",
      " 98546. 98547. 98548. 98550. 98552. 98555. 98556. 98557. 98560. 98562.\n",
      " 98563. 98564. 98565. 98566. 98568. 98569. 98570. 98571. 98575. 98576.\n",
      " 98577. 98579. 98580. 98581. 98582. 98583. 98584. 98585. 98586. 98587.\n",
      " 98588. 98589. 98590. 98591. 98592. 98593. 98595. 98596. 98597. 98601.\n",
      " 98603. 98604. 98605. 98606. 98607. 98609. 98610. 98611. 98612. 98613.\n",
      " 98614. 98616. 98617. 98619. 98620. 98621. 98623. 98624. 98625. 98626.\n",
      " 98628. 98629. 98631. 98632. 98635. 98638. 98639. 98640. 98641. 98642.\n",
      " 98644. 98645. 98647. 98648. 98649. 98650. 98651. 98660. 98661. 98662.\n",
      " 98663. 98664. 98665. 98668. 98670. 98671. 98672. 98673. 98674. 98675.\n",
      " 98682. 98683. 98684. 98685. 98686. 98801. 98802. 98810. 98812. 98814.\n",
      " 98815. 98816. 98822. 98823. 98826. 98828. 98830. 98831. 98833. 98834.\n",
      " 98837. 98840. 98841. 98843. 98844. 98845. 98846. 98847. 98848. 98849.\n",
      " 98850. 98851. 98855. 98856. 98857. 98858. 98862. 98901. 98902. 98903.\n",
      " 98908. 98922. 98925. 98926. 98930. 98932. 98934. 98935. 98936. 98937.\n",
      " 98938. 98940. 98941. 98942. 98943. 98944. 98946. 98947. 98948. 98951.\n",
      " 98952. 98953. 98959. 99001. 99003. 99004. 99005. 99006. 99008. 99009.\n",
      " 99011. 99012. 99013. 99016. 99017. 99019. 99021. 99022. 99023. 99025.\n",
      " 99026. 99027. 99029. 99030. 99031. 99032. 99033. 99034. 99036. 99037.\n",
      " 99040. 99101. 99103. 99109. 99110. 99111. 99113. 99114. 99115. 99116.\n",
      " 99118. 99119. 99122. 99123. 99125. 99126. 99128. 99129. 99130. 99131.\n",
      " 99133. 99134. 99137. 99138. 99139. 99141. 99147. 99148. 99156. 99161.\n",
      " 99163. 99164. 99166. 99167. 99169. 99170. 99171. 99173. 99181. 99185.\n",
      " 99201. 99202. 99203. 99204. 99205. 99206. 99207. 99208. 99212. 99216.\n",
      " 99217. 99218. 99223. 99224. 99301. 99320. 99322. 99323. 99324. 99326.\n",
      " 99328. 99330. 99336. 99337. 99338. 99343. 99344. 99345. 99347. 99348.\n",
      " 99349. 99350. 99352. 99353. 99354. 99356. 99357. 99360. 99361. 99362.\n",
      " 99402. 99403. 99567. 99701.    nan]\n",
      "[1993. 1998. 1999. 2000. 2002. 2008. 2010. 2011. 2012. 2013. 2014. 2015.\n",
      " 2016. 2017. 2018. 2019. 2020. 2021. 2022.]\n",
      "['AUDI' 'AZURE DYNAMICS' 'BENTLEY' 'BMW' 'CADILLAC' 'CHEVROLET' 'CHRYSLER'\n",
      " 'DODGE' 'FIAT' 'FISKER' 'FORD' 'HONDA' 'HYUNDAI' 'JAGUAR' 'JEEP' 'KIA'\n",
      " 'LAND ROVER' 'LINCOLN' 'LUCID MOTORS' 'MERCEDES-BENZ' 'MINI' 'MITSUBISHI'\n",
      " 'NISSAN' 'POLESTAR' 'PORSCHE' 'RIVIAN' 'SMART' 'SUBARU' 'TESLA' 'TH!NK'\n",
      " 'TOYOTA' 'VOLKSWAGEN' 'VOLVO' 'WHEEGO ELECTRIC CARS']\n",
      "['$16.36K' '330E' '500' '530E' '530E XDRIVE' '740E XDRIVE' '745E'\n",
      " '918 SPYDER' 'A3' 'A7' 'A8 E' 'ACCORD' 'AVIATOR' 'B-CLASS' 'BENTAYGA'\n",
      " 'BOLT EV' 'C-CLASS' 'C-MAX' 'C40' 'CARAVAN' 'CAYENNE' 'CITY' 'CLARITY'\n",
      " 'CORSAIR' 'COUNTRYMAN' 'CROSSTREK HYBRID AWD' 'CT6' 'E-GOLF' 'E-TRON'\n",
      " 'E-TRON SPORTBACK' 'ELR' 'EQ FORTWO' 'EQS-CLASS' 'ESCAPE' 'EV6' 'F-150'\n",
      " 'FOCUS' 'FORTWO' 'FORTWO ELECTRIC DRIVE' 'FUSION' 'GLC-CLASS' 'GLE-CLASS'\n",
      " 'HARDTOP' 'I-MIEV' 'I-PACE' 'I3' 'I8' 'ID.4' 'IONIQ' 'IONIQ 5' 'KARMA'\n",
      " 'KONA' 'KONA ELECTRIC' 'LEAF' 'LIFE' 'LUCID AIR' 'MACH-E' 'MODEL 3'\n",
      " 'MODEL S' 'MODEL X' 'MODEL Y' 'NIRO' 'NIRO ELECTRIC'\n",
      " 'NIRO PLUG-IN HYBRID' 'OPTIMA' 'OPTIMA PLUG-IN HYBRID' 'OUTLANDER'\n",
      " 'PACIFICA' 'PANAMERA' 'PRIUS PLUG-IN' 'PRIUS PLUG-IN HYBRID'\n",
      " 'PRIUS PRIME' 'PS2' 'Q5' 'Q5 E' 'R1T' 'RANGE ROVER' 'RANGE ROVER SPORT'\n",
      " 'RANGER' 'RAV4' 'RAV4 PRIME' 'ROADSTER' 'RS E-TRON' 'S-CLASS' 'S60' 'S90'\n",
      " 'SANTA FE' 'SONATA' 'SONATA PLUG-IN HYBRID' 'SORENTO' 'SOUL' 'SOUL EV'\n",
      " 'SPARK' 'TAYCAN' 'TRANSIT CONNECT ELECTRIC' 'TUCSON' 'VOLT' 'WRANGLER'\n",
      " 'X3' 'X5' 'XC40' 'XC60' 'XC60 AWD' 'XC60 AWD PHEV' 'XC90' 'XC90 AWD'\n",
      " 'XC90 AWD PHEV']\n",
      "['Battery Electric Vehicle (BEV)' 'Plug-in Hybrid Electric Vehicle (PHEV)']\n",
      "['Clean Alternative Fuel Vehicle Eligible'\n",
      " 'Eligibility unknown as battery range has not been researched'\n",
      " 'Not eligible due to low battery range']\n"
     ]
    }
   ],
   "source": [
    "from sklearn import preprocessing\n",
    "le = preprocessing.LabelEncoder()\n",
    "cols = ['County', 'City', 'State', 'ZIP Code', 'Model Year', 'Make', 'Model', 'Electric Vehicle Type', 'Clean Alternative Fuel Vehicle (CAFV) Eligibility']\n",
    "for col in cols:\n",
    "    le.fit(t[col])\n",
    "    x[col] = le.transform(x[col]) \n",
    "    print(le.classes_)"
   ]
  },
  {
   "cell_type": "code",
   "execution_count": 89,
   "id": "8afa1b96",
   "metadata": {},
   "outputs": [],
   "source": [
    "from sklearn.metrics import accuracy_score\n",
    "from sklearn.model_selection import train_test_split\n",
    "x_train, x_test, y_train, y_test = train_test_split(x, y, test_size = 0.5, random_state = 0)"
   ]
  },
  {
   "cell_type": "code",
   "execution_count": 90,
   "id": "6c9de5ff",
   "metadata": {},
   "outputs": [
    {
     "data": {
      "text/plain": [
       "LinearRegression()"
      ]
     },
     "execution_count": 90,
     "metadata": {},
     "output_type": "execute_result"
    }
   ],
   "source": [
    "from sklearn.linear_model import LinearRegression\n",
    "from sklearn.metrics import r2_score\n",
    "lm = LinearRegression()\n",
    "lm.fit(x_train, y_train)"
   ]
  },
  {
   "cell_type": "code",
   "execution_count": 91,
   "id": "0012f4b7",
   "metadata": {},
   "outputs": [
    {
     "data": {
      "text/plain": [
       "0.5827477810972661"
      ]
     },
     "execution_count": 91,
     "metadata": {},
     "output_type": "execute_result"
    }
   ],
   "source": [
    "r2_score(y_train, lm.predict(x_train))"
   ]
  },
  {
   "cell_type": "code",
   "execution_count": 92,
   "id": "92afcdb3",
   "metadata": {},
   "outputs": [
    {
     "data": {
      "text/plain": [
       "0.5699576027911194"
      ]
     },
     "execution_count": 92,
     "metadata": {},
     "output_type": "execute_result"
    }
   ],
   "source": [
    "r2_score(y_test, lm.predict(x_test))"
   ]
  },
  {
   "cell_type": "code",
   "execution_count": 93,
   "id": "6ca380a9",
   "metadata": {},
   "outputs": [
    {
     "data": {
      "text/plain": [
       "0.998556478870423"
      ]
     },
     "execution_count": 93,
     "metadata": {},
     "output_type": "execute_result"
    }
   ],
   "source": [
    "from sklearn.tree import DecisionTreeRegressor \n",
    "regressor = DecisionTreeRegressor(random_state = 0) \n",
    "regressor.fit(x_train, y_train)\n",
    "r2_score(y_test, regressor.predict(x_test))"
   ]
  },
  {
   "cell_type": "code",
   "execution_count": 94,
   "id": "cac5fdb4",
   "metadata": {},
   "outputs": [
    {
     "data": {
      "text/plain": [
       "1.0"
      ]
     },
     "execution_count": 94,
     "metadata": {},
     "output_type": "execute_result"
    }
   ],
   "source": [
    "r2_score(y_train, regressor.predict(x_train))"
   ]
  },
  {
   "cell_type": "code",
   "execution_count": 95,
   "id": "a718e65a",
   "metadata": {},
   "outputs": [],
   "source": [
    "uv = np.nanpercentile(df2['Base MSRP'], [99])[0]*2"
   ]
  },
  {
   "cell_type": "code",
   "execution_count": 96,
   "id": "1e58a99e",
   "metadata": {},
   "outputs": [
    {
     "name": "stderr",
     "output_type": "stream",
     "text": [
      "<ipython-input-96-886a4ebc4be9>:1: SettingWithCopyWarning: \n",
      "A value is trying to be set on a copy of a slice from a DataFrame\n",
      "\n",
      "See the caveats in the documentation: https://pandas.pydata.org/pandas-docs/stable/user_guide/indexing.html#returning-a-view-versus-a-copy\n",
      "  df2['Base MSRP'][(df2['Base MSRP']>uv)] = uv\n"
     ]
    }
   ],
   "source": [
    "df2['Base MSRP'][(df2['Base MSRP']>uv)] = uv"
   ]
  },
  {
   "cell_type": "code",
   "execution_count": 97,
   "id": "b0e0a9de",
   "metadata": {},
   "outputs": [],
   "source": [
    "le = preprocessing.LabelEncoder()"
   ]
  },
  {
   "cell_type": "code",
   "execution_count": 98,
   "id": "69883561",
   "metadata": {},
   "outputs": [],
   "source": [
    "cols = ['County', 'City', 'State', 'ZIP Code', 'Model Year', 'Make', 'Model', 'Electric Vehicle Type', 'Clean Alternative Fuel Vehicle (CAFV) Eligibility']"
   ]
  },
  {
   "cell_type": "code",
   "execution_count": 99,
   "id": "c2e213c0",
   "metadata": {},
   "outputs": [
    {
     "name": "stdout",
     "output_type": "stream",
     "text": [
      "['Adams' 'Alameda' 'Albemarle' 'Alexandria City' 'Allegheny' 'Anchorage'\n",
      " 'Anne Arundel' 'Asotin' 'Baltimore' 'Bartow' 'Bay' 'Bell' 'Benton'\n",
      " 'Bexar' 'Boone' 'Bradley' 'Bryan' 'Caddo' 'Calvert' 'Camden' 'Carroll'\n",
      " 'Carson City' 'Charles' 'Chaves' 'Chelan' 'Chesapeake City' 'Clackamas'\n",
      " 'Clallam' 'Clark' 'Columbia' 'Coryell' 'Cowlitz' 'Cumberland'\n",
      " 'Danville City' 'Davidson' 'Dekalb' 'Denton' 'District Of Columbia'\n",
      " 'Douglas' 'Dupage' 'Duval' 'El Paso' 'Erie' 'Fairbanks North Star'\n",
      " 'Fairfax' 'Ferry' 'Flathead' 'Franklin' 'Frederick' 'Fresno' 'Garfield'\n",
      " 'Glacier' 'Goochland' 'Grant' 'Grays Harbor' 'Greene' 'Guadalupe'\n",
      " 'Hamilton' 'Harris' 'Harrison' 'Hennepin' 'Hidalgo' 'Hillsborough'\n",
      " 'Honolulu' 'Houdson' 'Howard' 'Hudson' 'Humacao' 'Island' 'Jefferson'\n",
      " 'Kent' 'Kern' 'King' 'Kings' 'Kitsap' 'Kittitas' 'Klamath' 'Klickitat'\n",
      " 'Lake' 'Laramie' 'Leavenworth' 'Lewis' 'Liberty' 'Lincoln' 'Los Angeles'\n",
      " 'Manassas City' 'Maricopa' 'Marin' 'Mason' 'Mecklenburg' 'Monterey'\n",
      " 'Montgomery' 'Moore' 'Multnomah' 'Muscogee' 'New Castle' 'New London'\n",
      " 'Newport' 'Norfolk City' 'Nueces' 'Okanogan' 'Oldham' 'Orange' 'Otero'\n",
      " 'Ozaukee' 'Pacific' 'Palm Beach' 'Passaic' 'Pend Oreille' 'Pennington'\n",
      " 'Philadelphia' 'Pierce' 'Pima' 'Pinellas' 'Placer' 'Plaquemines' 'Platte'\n",
      " 'Powhatan' 'Prince Georges' 'Prince William' 'Queens' 'Riley' 'Riverside'\n",
      " 'Rock Island' 'Rockingham' 'Sacramento' 'Saint Clair' 'Saint Louis City'\n",
      " 'Saint Marys' 'Salt Lake' 'San Bernardino' 'San Diego' 'San Francisco'\n",
      " 'San Juan' 'Santa Clara' 'Santa Cruz' 'Sarasota' 'Sarpy' 'Shelby'\n",
      " 'Skagit' 'Skamania' 'Snohomish' 'SouthWest' 'Spokane' 'Stafford'\n",
      " 'Stevens' 'Suffolk' 'Suffolk City' 'Thurston' 'Tipton' 'Ventura' 'Vigo'\n",
      " 'Virginia Beach City' 'Wahkiakum' 'Wake' 'Walla Walla' 'Washoe' 'Whatcom'\n",
      " 'Whitman' 'Wichita' 'Williams' 'Wilson' 'Yakima' 'Yamhill']\n",
      "['ABERDEEN' 'ACME' 'ADAIRSVILLE' 'ADDY' 'AIRWAY HEIGHTS' 'ALAMEDA'\n",
      " 'ALEXANDRIA' 'ALGONA' 'ALHAMBRA' 'ALISO VIEJO' 'ALLENHURST' 'ALLYN'\n",
      " 'ALMIRA' 'AMANDA PARK' 'AMBOY' 'ANACORTES' 'ANDERSON ISLAND' 'ANNANDALE'\n",
      " 'ANNAPOLIS' 'ANTHEM' 'APO' 'APPLE VALLEY' 'ARIEL' 'ARLINGTON' 'ARNOLD'\n",
      " 'ASHFORD' 'ASOTIN' 'ATOKA' 'AUBURN' 'BAINBRIDGE IS' 'BAINBRIDGE ISLAND'\n",
      " 'BARING' 'BATTLE GROUND' 'BAY CENTER' 'BEAUX ARTS' 'BEAVER' 'BELFAIR'\n",
      " 'BELLE CHASSE' 'BELLEVILLE' 'BELLEVUE' 'BELLINGHAM' 'BENTON CITY'\n",
      " 'BETHEL' 'BETHESDA' 'BICKLETON' 'BILOXI' 'BINGEN' 'BLACK DIAMOND'\n",
      " 'BLAINE' 'BONNEY LAKE' 'BOSTON' 'BOTHELL' 'BOW' 'BREMERTON' 'BREWSTER'\n",
      " 'BRIER' 'BRINNON' 'BROOKLYN' 'BROWNING' 'BRUSH PRAIRIE' 'BUCKLEY'\n",
      " 'BUCODA' 'BUENA PARK' 'BURBANK' 'BURIEN' 'BURKE' 'BURLINGTON'\n",
      " 'CALIFORNIA' 'CAMANO ISLAND' 'CAMARILLO' 'CAMAS' 'CARBONADO' 'CARLTON'\n",
      " 'CARMEL' 'CARNATION' 'CARROLLS' 'CARSON' 'CARSON CITY' 'CASHMERE'\n",
      " 'CASTLE ROCK' 'CATHLAMET' 'CEDARBURG' 'CENTERVILLE' 'CENTRALIA'\n",
      " 'CHARLOTTE' 'CHARLOTTESVILLE' 'CHATTAROY' 'CHEHALIS' 'CHELAN' 'CHENEY'\n",
      " 'CHESAPEAKE' 'CHESAPEAKE BEACH' 'CHEWELAH' 'CHEYENNE' 'CHIMACUM' 'CHINO'\n",
      " 'CHINOOK' 'CHUGIAK' 'CHULA VISTA' 'CINEBAR' 'CLALLAM BAY' 'CLARKSTON'\n",
      " 'CLAYMONT' 'CLAYTON' 'CLE ELUM' 'CLEARLAKE' 'CLEVELAND' 'CLINTON'\n",
      " 'CLOVIS' 'CLYDE HILL' 'COLBERT' 'COLFAX' 'COLLEGE PLACE' 'COLORADO SPGS'\n",
      " 'COLORADO SPRINGS' 'COLTON' 'COLUMBIA' 'COLUMBUS' 'COLVILLE' 'CONCRETE'\n",
      " 'CONNELL' 'COOK' 'COPALIS BEACH' 'COPALIS CROSSING' 'CORONADO'\n",
      " 'CORPUS CHRISTI' 'COSMOPOLIS' 'COSTA MESA' 'COUGAR' 'COULEE CITY'\n",
      " 'COULEE DAM' 'COUPEVILLE' 'COVINGTON' 'CRESTON' 'CURLEW' 'CURTIS'\n",
      " 'CUSICK' 'CUSTER' 'DALLESPORT' 'DANVILLE' 'DARRINGTON' 'DAVENPORT'\n",
      " 'DAYTON' 'DECATUR' 'DEER HARBOR' 'DEER MEADOWS' 'DEER PARK' 'DEMING'\n",
      " 'DES MOINES' 'DESERT AIRE' 'DIBERVILLE' 'DORCHESTER' 'DPO' 'DUPONT'\n",
      " 'DUVALL' 'EAST WENATCHEE' 'EASTON' 'EASTSOUND' 'EATONVILLE' 'EDGEWATER'\n",
      " 'EDGEWOOD' 'EDMONDS' 'EDWALL' 'EL PASO' 'ELECTRIC CITY' 'ELK' 'ELKTON'\n",
      " 'ELLENSBURG' 'ELMA' 'ELTOPIA' 'ENDICOTT' 'ENTIAT' 'ENUMCLAW' 'EPHRATA'\n",
      " 'ETHEL' 'EVANS' 'EVERETT' 'EVERSON' 'EWA BEACH' 'FAIRBANKS'\n",
      " 'FAIRCHILD AIR FORCE BASE' 'FAIRFAX' 'FAIRFIELD' 'FALL CITY' 'FARMINGTON'\n",
      " 'FAYETTEVILLE' 'FEDERAL WAY' 'FERNDALE' 'FIFE' 'FIRCREST' 'FORD'\n",
      " 'FOREST PARK' 'FORKS' 'FORT BELVOIR' 'FORT BRAGG' 'FORT LEWIS'\n",
      " 'FORT WASHINGTON' 'FOX ISLAND' 'FPO' 'FREDERICK' 'FREDERICKSBURG'\n",
      " 'FREELAND' 'FRIDAY HARBOR' 'FRUITLAND' 'GAITHERSBURG' 'GAMBRILLS'\n",
      " 'GARDENA' 'GARFIELD' 'GERMANTOWN' 'GIFFORD' 'GIG HARBOR' 'GLENELG'\n",
      " 'GLENWOOD' 'GOLD BAR' 'GOLDENDALE' 'GOSHEN' 'GRAHAM' 'GRAND COULEE'\n",
      " 'GRAND ISLAND' 'GRANDVIEW' 'GRANGER' 'GRANITE FALLS' 'GRAPEVIEW'\n",
      " 'GRAYLAND' 'GRAYS RIVER' 'GREEN VALLEY' 'GREENACRES' 'GREENBANK' 'GROTON'\n",
      " 'GROVETOWN' 'HADDONFIELD' 'HANSVILLE' 'HARKER HEIGHTS' 'HARRINGTON'\n",
      " 'HIGHLAND PARK' 'HOBART' 'HOLLOMAN AIR FORCE BASE' 'HOLLYWOOD' 'HONOLULU'\n",
      " 'HOODSPORT' 'HOQUIAM' 'HOUSTON' 'HUGHESVILLE' 'HUMPTULIPS' 'HUNTERS'\n",
      " 'HUNTS POINT' 'HUSUM' 'ILWACO' 'INCHELIUM' 'INDIAN WELLS' 'INDIANOLA'\n",
      " 'IONE' 'ISSAQUAH' 'JACKSONVILLE' 'JAMAICA' 'JBLM'\n",
      " 'JOINT BASE LEWIS MCCHORD' 'KAILUA' 'KALAMA' 'KELSO' 'KENMORE'\n",
      " 'KENNEWICK' 'KENT' 'KETTLE FALLS' 'KEYPORT' 'KINGSTON' 'KIRKLAND'\n",
      " 'KITTITAS' 'KLAMATH FALLS' 'KLICKITAT' 'KOKOMO' 'LA CENTER' 'LA CONNER'\n",
      " 'LACEY' 'LAKE FOREST PARK' 'LAKE STEVENS' 'LAKE TAPPS' 'LAKEBAY'\n",
      " 'LAKESIDE' 'LAKEWOOD' 'LAMONT' 'LANCASTER' 'LANGLEY' 'LANSING'\n",
      " 'LAS VEGAS' 'LAUGHLIN' 'LAYTONSVILLE' 'LEAVENWORTH' 'LEMOORE'\n",
      " 'LEWIS MCCHORD' 'LEXINGTON PK' 'LIBERTY LAKE' 'LILLIWAUP' 'LITTLE ELM'\n",
      " 'LITTLEROCK' 'LONG BEACH' 'LONGBRANCH' 'LONGVIEW' 'LOON LAKE'\n",
      " 'LOPEZ ISLAND' 'LUMMI ISLAND' 'LYLE' 'LYNDEN' 'LYNNWOOD' 'MABTON'\n",
      " 'MAGNOLIA' 'MAITLAND' 'MALAGA' 'MANASSAS' 'MANHATTAN' 'MANSFIELD'\n",
      " 'MANSON' 'MAPLE FALLS' 'MAPLE VALLEY' 'MARBLEMOUNT' 'MARYSVILLE'\n",
      " 'MATLOCK' 'MATTAWA' 'MAZAMA' 'MCALLEN' 'MCCHORD AFB' 'MCCLEARY' 'MEAD'\n",
      " 'MEDICAL LAKE' 'MEDINA' 'MERCER ISLAND' 'MESA' 'METHOW' 'MICA'\n",
      " 'MIDDLETOWN' 'MILL CREEK' 'MILLWOOD' 'MILTON' 'MINERAL' 'MINNEAPOLIS'\n",
      " 'MOCLIPS' 'MONROE' 'MONTEREY' 'MONTESANO' 'MONTGOMERY' 'MORTON'\n",
      " 'MOSES LAKE' 'MOSSYROCK' 'MOUNT VERNON' 'MOUNTLAKE TERRACE' 'MOXEE'\n",
      " 'MUKILTEO' 'NACHES' 'NAPAVINE' 'NASELLE' 'NASHVILLE' 'NEAH BAY' 'NEILTON'\n",
      " 'NEWBERG' 'NEWCASTLE' 'NEWMAN LAKE' 'NEWPORT' 'NEWPORT BEACH'\n",
      " 'NINE MILE FALLS' 'NOOKSACK' 'NORDLAND' 'NORFOLK' 'NORMANDY PARK'\n",
      " 'NORRISTOWN' 'NORTH BEND' 'NORTH BONNEVILLE' 'NORTH LAS VEGAS'\n",
      " 'OAK HARBOR' 'OAK RIDGE' 'OAKVILLE' 'OCEAN CITY' 'OCEAN PARK'\n",
      " 'OCEAN SHORES' 'OCEANSIDE' 'OKANOGAN' 'OLALLA' 'OLD LYME' 'OLGA'\n",
      " 'OLYMPIA' 'OMAHA' 'OMAK' 'ONALASKA' 'ORCAS' 'ORONDO' 'OROVILLE' 'ORTING'\n",
      " 'OTHELLO' 'OTIS ORCHARDS' 'OUTLOOK' 'OYSTERVILLE' 'PACIFIC'\n",
      " 'PACIFIC BEACH' 'PACKWOOD' 'PALISADES' 'PALM HARBOR' 'PALO ALTO'\n",
      " 'PALOUSE' 'PANAMA CITY' 'PAPILLION' 'PASADENA' 'PASCO' 'PATEROS'\n",
      " 'PATERSON' 'PAWCATUCK' 'PESHASTIN' 'PHILADELPHIA' 'PLATTE CITY'\n",
      " 'POINT ROBERTS' 'POMEROY' 'PORT ANGELES' 'PORT HADLOCK' 'PORT HUENEME'\n",
      " 'PORT LUDLOW' 'PORT ORCHARD' 'PORT TOBACCO' 'PORT TOWNSEND' 'PORTLAND'\n",
      " 'PORTSMOUTH' 'POTOMAC' 'POULSBO' 'POWHATAN' 'PRESCOTT' 'PRESTON'\n",
      " 'PROSSER' 'PULLMAN' 'PURMELA' 'PUYALLUP' 'QUIL CEDA VILLAGE' 'QUILCENE'\n",
      " 'QUINAULT' 'QUINCY' 'RAINIER' 'RALEIGH' 'RANDLE' 'RAPID CITY'\n",
      " 'RAVENSDALE' 'RAYMOND' 'REARDAN' 'REDMOND' 'RENO' 'RENTON' 'REPUBLIC'\n",
      " 'RICE' 'RICHLAND' 'RICHMOND' 'RICHMOND HILL' 'RIDGECREST' 'RIDGEFIELD'\n",
      " 'RIO GRANDE' 'RITZVILLE' 'RIVERSIDE' 'ROCHE HARBOR' 'ROCHESTER'\n",
      " 'ROCK ISLAND' 'ROCKFORD' 'ROGERSVILLE' 'RONALD' 'ROOSEVELT' 'ROSALIA'\n",
      " 'ROSEVILLE' 'ROSLYN' 'ROSWELL' 'ROY' 'ROYAL CITY' 'RUSKIN' 'RUSTON'\n",
      " 'RYDERWOOD' 'SACRAMENTO' 'SAINT JOHN' 'SAINT LOUIS' 'SAINT MARYS'\n",
      " 'SALKUM' 'SAMMAMISH' 'SAN ANTONIO' 'SAN DIEGO' 'SAN FRANCISCO'\n",
      " 'SAN JACINTO' 'SAN JOSE' 'SAN PEDRO' 'SAN RAFAEL' 'SANDY SPRING'\n",
      " 'SANTA CLARA' 'SANTA CRUZ' 'SARASOTA' 'SATSOP' 'SCHERTZ' 'SEABECK'\n",
      " 'SEATAC' 'SEATTLE' 'SEAVIEW' 'SECAUCUS' 'SEDRO WOOLLEY' 'SEKIU' 'SELAH'\n",
      " 'SEQUIM' 'SEVEN BAYS' 'SHAW ISLAND' 'SHELTON' 'SHORELINE' 'SHREVEPORT'\n",
      " 'SIDNEY' 'SILVER CREEK' 'SILVER SPRING' 'SILVERDALE' 'SILVERLAKE'\n",
      " 'SKAMOKAWA' 'SKOKOMISH NATION' 'SKYKOMISH' 'SNOHOMISH' 'SNOQUALMIE'\n",
      " 'SNOQUALMIE PASS' 'SOAP LAKE' 'SOUTH BEND' 'SOUTH CLE ELUM' 'SOUTH HILL'\n",
      " 'SOUTH PRAIRIE' 'SOUTHERN PINES' 'SOUTHWORTH' 'SPANAWAY' 'SPANGLE'\n",
      " 'SPARKS GLENCOE' 'SPOKANE' 'SPOKANE VALLEY' 'SPRAGUE' 'SPRINGDALE'\n",
      " 'SPRINGFIELD' 'STAFFORD' 'STANWOOD' 'STEILACOOM' 'STEVENSON' 'SUFFOLK'\n",
      " 'SULTAN' 'SUMAS' 'SUMNER' 'SUNNYSIDE' 'SUQUAMISH' 'TACOMA' 'TAHOLAH'\n",
      " 'TAHUYA' 'TAYLORSVILLE' 'TEKOA' 'TENINO' 'TERRE HAUTE' 'THORP' 'TIETON'\n",
      " 'TOKELAND' 'TOLEDO' 'TONASKET' 'TOPPENISH' 'TOUCHET' 'TOUTLE' 'TOWNSEND'\n",
      " 'TROUT LAKE' 'TUKWILA' 'TULALIP' 'TUMTUM' 'TUMWATER' 'TWISP' 'UNDERWOOD'\n",
      " 'UNION' 'UNION GAP' 'UNIVERSITY PLACE' 'VADER' 'VALLEY' 'VALLEYFORD'\n",
      " 'VANCOUVER' 'VASHON' 'VAUGHN' 'VERADALE' 'VIENNA' 'VIRGINIA BEACH'\n",
      " 'VISTA' 'WAHKIACUS' 'WAITSBURG' 'WALDORF' 'WALDRON' 'WALLA WALLA'\n",
      " 'WAPATO' 'WARDEN' 'WASHINGTON' 'WASHOUGAL' 'WATERVILLE' 'WELLPINIT'\n",
      " 'WENATCHEE' 'WEST HOLLYWOOD' 'WEST LINN' 'WEST RICHLAND' 'WEST VALLEY'\n",
      " 'WESTMINSTER' 'WESTMONT' 'WESTPORT' 'WEXFORD' 'WHITE SALMON' 'WHITE SWAN'\n",
      " 'WHITEFISH' 'WICHITA FALLS' 'WILBUR' 'WILKESON' 'WILLISTON' 'WILSON'\n",
      " 'WINCHESTER' 'WINLOCK' 'WINTHROP' 'WISHRAM' 'WOODBRIDGE' 'WOODINVILLE'\n",
      " 'WOODLAND' 'WOODWAY' 'YACOLT' 'YAKIMA' 'YARROW POINT' 'YELM' 'YERMO'\n",
      " 'ZILLAH']\n",
      "['AE' 'AK' 'AL' 'AP' 'AZ' 'CA' 'CO' 'CT' 'DC' 'DE' 'FL' 'GA' 'HI' 'IL'\n",
      " 'IN' 'KS' 'KY' 'LA' 'MA' 'MD' 'MN' 'MO' 'MS' 'MT' 'NC' 'ND' 'NE' 'NH'\n",
      " 'NJ' 'NM' 'NV' 'NY' 'OH' 'OR' 'PA' 'PR' 'RI' 'SD' 'TN' 'TX' 'UT' 'VA'\n",
      " 'WA' 'WI' 'WY']\n",
      "[  745.  2124.  2127.  2842.  3801.  6340.  6371.  6379.  7094.  7438.\n",
      "  8033.  9751.  9753. 11201. 11436. 14072. 15090. 19034. 19122. 19403.\n",
      " 19703. 19962. 20002. 20009. 20017. 20024. 20110. 20603. 20619. 20636.\n",
      " 20637. 20653. 20677. 20732. 20744. 20814. 20854. 20860. 20876. 20878.\n",
      " 20882. 20910. 21012. 21037. 21054. 21122. 21152. 21157. 21401. 21701.\n",
      " 21704. 21737. 22003. 22015. 22032. 22060. 22153. 22180. 22191. 22193.\n",
      " 22301. 22308. 22312. 22314. 22405. 22554. 22903. 22911. 23139. 23238.\n",
      " 23321. 23324. 23435. 23462. 23464. 23517. 23518. 24541. 27601. 27893.\n",
      " 28208. 28305. 28307. 28311. 28387. 30030. 30103. 30813. 31301. 31324.\n",
      " 31558. 31909. 32226. 32401. 32751. 33415. 33570. 34242. 34685. 36115.\n",
      " 37221. 37323. 38004. 39531. 39540. 40026. 45365. 46032. 46901. 47807.\n",
      " 53012. 55407. 57701. 58801. 59417. 59937. 60035. 60559. 61201. 62220.\n",
      " 63137. 64079. 65201. 65742. 66043. 66503. 68102. 68130. 68133. 68135.\n",
      " 70037. 71104. 75068. 76310. 76548. 76566. 77042. 78154. 78209. 78214.\n",
      " 78251. 78258. 78405. 78501. 79911. 80906. 80919. 82001. 84128. 84129.\n",
      " 85086. 85622. 88201. 88330. 89029. 89084. 89107. 89138. 89146. 89521.\n",
      " 89706. 90038. 90249. 90620. 90732. 90802. 91708. 91801. 91910. 91913.\n",
      " 92040. 92056. 92058. 92081. 92101. 92102. 92103. 92106. 92109. 92118.\n",
      " 92123. 92124. 92127. 92130. 92131. 92210. 92308. 92398. 92582. 92596.\n",
      " 92626. 92656. 92660. 93010. 93041. 93245. 93536. 93555. 93619. 93940.\n",
      " 94123. 94303. 94501. 94901. 95054. 95062. 95134. 95747. 95817. 96319.\n",
      " 96349. 96530. 96620. 96662. 96678. 96706. 96734. 96814. 96817. 97068.\n",
      " 97132. 97202. 97214. 97218. 97239. 97436. 97601. 98001. 98002. 98003.\n",
      " 98004. 98005. 98006. 98007. 98008. 98010. 98011. 98012. 98014. 98015.\n",
      " 98019. 98020. 98021. 98022. 98023. 98024. 98025. 98026. 98027. 98028.\n",
      " 98029. 98030. 98031. 98032. 98033. 98034. 98036. 98037. 98038. 98039.\n",
      " 98040. 98042. 98043. 98045. 98047. 98050. 98051. 98052. 98053. 98055.\n",
      " 98056. 98057. 98058. 98059. 98065. 98068. 98070. 98072. 98074. 98075.\n",
      " 98077. 98082. 98083. 98087. 98092. 98101. 98102. 98103. 98104. 98105.\n",
      " 98106. 98107. 98108. 98109. 98110. 98112. 98115. 98116. 98117. 98118.\n",
      " 98119. 98121. 98122. 98124. 98125. 98126. 98133. 98134. 98136. 98144.\n",
      " 98146. 98148. 98155. 98158. 98164. 98166. 98168. 98177. 98178. 98188.\n",
      " 98198. 98199. 98201. 98203. 98204. 98206. 98207. 98208. 98220. 98221.\n",
      " 98223. 98224. 98225. 98226. 98227. 98229. 98230. 98232. 98233. 98235.\n",
      " 98236. 98237. 98239. 98240. 98241. 98243. 98244. 98245. 98247. 98248.\n",
      " 98249. 98250. 98251. 98252. 98253. 98257. 98258. 98260. 98261. 98262.\n",
      " 98264. 98266. 98267. 98270. 98271. 98272. 98273. 98274. 98275. 98276.\n",
      " 98277. 98278. 98279. 98280. 98281. 98282. 98284. 98286. 98288. 98290.\n",
      " 98291. 98292. 98294. 98295. 98296. 98297. 98303. 98304. 98305. 98310.\n",
      " 98311. 98312. 98314. 98315. 98320. 98321. 98323. 98325. 98326. 98327.\n",
      " 98328. 98329. 98331. 98332. 98333. 98335. 98337. 98338. 98339. 98340.\n",
      " 98342. 98345. 98346. 98349. 98351. 98354. 98355. 98356. 98357. 98358.\n",
      " 98359. 98360. 98361. 98362. 98363. 98365. 98366. 98367. 98368. 98370.\n",
      " 98371. 98372. 98373. 98374. 98375. 98376. 98377. 98380. 98381. 98382.\n",
      " 98383. 98385. 98386. 98387. 98388. 98390. 98391. 98392. 98394. 98396.\n",
      " 98402. 98403. 98404. 98405. 98406. 98407. 98408. 98409. 98418. 98421.\n",
      " 98422. 98424. 98431. 98433. 98438. 98439. 98443. 98444. 98445. 98446.\n",
      " 98465. 98466. 98467. 98498. 98499. 98501. 98502. 98503. 98504. 98506.\n",
      " 98507. 98508. 98512. 98513. 98516. 98520. 98524. 98526. 98527. 98528.\n",
      " 98530. 98531. 98532. 98533. 98535. 98536. 98537. 98538. 98541. 98542.\n",
      " 98546. 98547. 98548. 98550. 98552. 98555. 98556. 98557. 98560. 98562.\n",
      " 98563. 98564. 98565. 98566. 98568. 98569. 98570. 98571. 98575. 98576.\n",
      " 98577. 98579. 98580. 98581. 98582. 98583. 98584. 98585. 98586. 98587.\n",
      " 98588. 98589. 98590. 98591. 98592. 98593. 98595. 98596. 98597. 98601.\n",
      " 98603. 98604. 98605. 98606. 98607. 98609. 98610. 98611. 98612. 98613.\n",
      " 98614. 98616. 98617. 98619. 98620. 98621. 98623. 98624. 98625. 98626.\n",
      " 98628. 98629. 98631. 98632. 98635. 98638. 98639. 98640. 98641. 98642.\n",
      " 98644. 98645. 98647. 98648. 98649. 98650. 98651. 98660. 98661. 98662.\n",
      " 98663. 98664. 98665. 98668. 98670. 98671. 98672. 98673. 98674. 98675.\n",
      " 98682. 98683. 98684. 98685. 98686. 98801. 98802. 98810. 98812. 98814.\n",
      " 98815. 98816. 98822. 98823. 98826. 98828. 98830. 98831. 98833. 98834.\n",
      " 98837. 98840. 98841. 98843. 98844. 98845. 98846. 98847. 98848. 98849.\n",
      " 98850. 98851. 98855. 98856. 98857. 98858. 98862. 98901. 98902. 98903.\n",
      " 98908. 98922. 98925. 98926. 98930. 98932. 98934. 98935. 98936. 98937.\n",
      " 98938. 98940. 98941. 98942. 98943. 98944. 98946. 98947. 98948. 98951.\n",
      " 98952. 98953. 98959. 99001. 99003. 99004. 99005. 99006. 99008. 99009.\n",
      " 99011. 99012. 99013. 99016. 99017. 99019. 99021. 99022. 99023. 99025.\n",
      " 99026. 99027. 99029. 99030. 99031. 99032. 99033. 99034. 99036. 99037.\n",
      " 99040. 99101. 99103. 99109. 99110. 99111. 99113. 99114. 99115. 99116.\n",
      " 99118. 99119. 99122. 99123. 99125. 99126. 99128. 99129. 99130. 99131.\n",
      " 99133. 99134. 99137. 99138. 99139. 99141. 99147. 99148. 99156. 99161.\n",
      " 99163. 99164. 99166. 99167. 99169. 99170. 99171. 99173. 99181. 99185.\n",
      " 99201. 99202. 99203. 99204. 99205. 99206. 99207. 99208. 99212. 99216.\n",
      " 99217. 99218. 99223. 99224. 99301. 99320. 99322. 99323. 99324. 99326.\n",
      " 99328. 99330. 99336. 99337. 99338. 99343. 99344. 99345. 99347. 99348.\n",
      " 99349. 99350. 99352. 99353. 99354. 99356. 99357. 99360. 99361. 99362.\n",
      " 99402. 99403. 99567. 99701.    nan]\n",
      "[1993. 1998. 1999. 2000. 2002. 2008. 2010. 2011. 2012. 2013. 2014. 2015.\n",
      " 2016. 2017. 2018. 2019. 2020. 2021. 2022.]\n",
      "['AUDI' 'AZURE DYNAMICS' 'BENTLEY' 'BMW' 'CADILLAC' 'CHEVROLET' 'CHRYSLER'\n",
      " 'DODGE' 'FIAT' 'FISKER' 'FORD' 'HONDA' 'HYUNDAI' 'JAGUAR' 'JEEP' 'KIA'\n",
      " 'LAND ROVER' 'LINCOLN' 'LUCID MOTORS' 'MERCEDES-BENZ' 'MINI' 'MITSUBISHI'\n",
      " 'NISSAN' 'POLESTAR' 'PORSCHE' 'RIVIAN' 'SMART' 'SUBARU' 'TESLA' 'TH!NK'\n",
      " 'TOYOTA' 'VOLKSWAGEN' 'VOLVO' 'WHEEGO ELECTRIC CARS']\n",
      "['$16.36K' '330E' '500' '530E' '530E XDRIVE' '740E XDRIVE' '745E'\n",
      " '918 SPYDER' 'A3' 'A7' 'A8 E' 'ACCORD' 'AVIATOR' 'B-CLASS' 'BENTAYGA'\n",
      " 'BOLT EV' 'C-CLASS' 'C-MAX' 'C40' 'CARAVAN' 'CAYENNE' 'CITY' 'CLARITY'\n",
      " 'CORSAIR' 'COUNTRYMAN' 'CROSSTREK HYBRID AWD' 'CT6' 'E-GOLF' 'E-TRON'\n",
      " 'E-TRON SPORTBACK' 'ELR' 'EQ FORTWO' 'EQS-CLASS' 'ESCAPE' 'EV6' 'F-150'\n",
      " 'FOCUS' 'FORTWO' 'FORTWO ELECTRIC DRIVE' 'FUSION' 'GLC-CLASS' 'GLE-CLASS'\n",
      " 'HARDTOP' 'I-MIEV' 'I-PACE' 'I3' 'I8' 'ID.4' 'IONIQ' 'IONIQ 5' 'KARMA'\n",
      " 'KONA' 'KONA ELECTRIC' 'LEAF' 'LIFE' 'LUCID AIR' 'MACH-E' 'MODEL 3'\n",
      " 'MODEL S' 'MODEL X' 'MODEL Y' 'NIRO' 'NIRO ELECTRIC'\n",
      " 'NIRO PLUG-IN HYBRID' 'OPTIMA' 'OPTIMA PLUG-IN HYBRID' 'OUTLANDER'\n",
      " 'PACIFICA' 'PANAMERA' 'PRIUS PLUG-IN' 'PRIUS PLUG-IN HYBRID'\n",
      " 'PRIUS PRIME' 'PS2' 'Q5' 'Q5 E' 'R1T' 'RANGE ROVER' 'RANGE ROVER SPORT'\n",
      " 'RANGER' 'RAV4' 'RAV4 PRIME' 'ROADSTER' 'RS E-TRON' 'S-CLASS' 'S60' 'S90'\n",
      " 'SANTA FE' 'SONATA' 'SONATA PLUG-IN HYBRID' 'SORENTO' 'SOUL' 'SOUL EV'\n",
      " 'SPARK' 'TAYCAN' 'TRANSIT CONNECT ELECTRIC' 'TUCSON' 'VOLT' 'WRANGLER'\n",
      " 'X3' 'X5' 'XC40' 'XC60' 'XC60 AWD' 'XC60 AWD PHEV' 'XC90' 'XC90 AWD'\n",
      " 'XC90 AWD PHEV']\n",
      "['Battery Electric Vehicle (BEV)' 'Plug-in Hybrid Electric Vehicle (PHEV)']\n",
      "['Clean Alternative Fuel Vehicle Eligible'\n",
      " 'Eligibility unknown as battery range has not been researched'\n",
      " 'Not eligible due to low battery range']\n"
     ]
    }
   ],
   "source": [
    "for col in cols:\n",
    "    le.fit(t[col])\n",
    "    df2[col] = le.transform(df2[col]) \n",
    "    print(le.classes_)"
   ]
  },
  {
   "cell_type": "code",
   "execution_count": 100,
   "id": "0fcc78b8",
   "metadata": {},
   "outputs": [
    {
     "data": {
      "text/plain": [
       "DecisionTreeRegressor(random_state=0)"
      ]
     },
     "execution_count": 100,
     "metadata": {},
     "output_type": "execute_result"
    }
   ],
   "source": [
    "regressor.fit(x, y)"
   ]
  },
  {
   "cell_type": "code",
   "execution_count": 101,
   "id": "749da440",
   "metadata": {},
   "outputs": [],
   "source": [
    "p = regressor.predict(df2)"
   ]
  },
  {
   "cell_type": "code",
   "execution_count": 102,
   "id": "78ab1b89",
   "metadata": {},
   "outputs": [
    {
     "data": {
      "text/plain": [
       "array([17., 43., 69., ..., 78., 20., 15.])"
      ]
     },
     "execution_count": 102,
     "metadata": {},
     "output_type": "execute_result"
    }
   ],
   "source": [
    "p"
   ]
  },
  {
   "cell_type": "code",
   "execution_count": 103,
   "id": "ca7beece",
   "metadata": {},
   "outputs": [],
   "source": [
    "data = {\n",
    "   'ID': id,\n",
    "   'Expected Price ($1k)': p,\n",
    "}"
   ]
  },
  {
   "cell_type": "code",
   "execution_count": 104,
   "id": "f644e5cf",
   "metadata": {},
   "outputs": [],
   "source": [
    "dataframe = pd.DataFrame(data)"
   ]
  },
  {
   "cell_type": "code",
   "execution_count": 105,
   "id": "1ffa4498",
   "metadata": {},
   "outputs": [
    {
     "data": {
      "text/html": [
       "<div>\n",
       "<style scoped>\n",
       "    .dataframe tbody tr th:only-of-type {\n",
       "        vertical-align: middle;\n",
       "    }\n",
       "\n",
       "    .dataframe tbody tr th {\n",
       "        vertical-align: top;\n",
       "    }\n",
       "\n",
       "    .dataframe thead th {\n",
       "        text-align: right;\n",
       "    }\n",
       "</style>\n",
       "<table border=\"1\" class=\"dataframe\">\n",
       "  <thead>\n",
       "    <tr style=\"text-align: right;\">\n",
       "      <th></th>\n",
       "      <th>ID</th>\n",
       "      <th>Expected Price ($1k)</th>\n",
       "    </tr>\n",
       "  </thead>\n",
       "  <tbody>\n",
       "    <tr>\n",
       "      <th>0</th>\n",
       "      <td>EV28368</td>\n",
       "      <td>17.0</td>\n",
       "    </tr>\n",
       "    <tr>\n",
       "      <th>1</th>\n",
       "      <td>EV27088</td>\n",
       "      <td>43.0</td>\n",
       "    </tr>\n",
       "    <tr>\n",
       "      <th>2</th>\n",
       "      <td>EV58989</td>\n",
       "      <td>69.0</td>\n",
       "    </tr>\n",
       "    <tr>\n",
       "      <th>3</th>\n",
       "      <td>EV6715</td>\n",
       "      <td>64.0</td>\n",
       "    </tr>\n",
       "    <tr>\n",
       "      <th>4</th>\n",
       "      <td>EV63251</td>\n",
       "      <td>73.0</td>\n",
       "    </tr>\n",
       "  </tbody>\n",
       "</table>\n",
       "</div>"
      ],
      "text/plain": [
       "        ID  Expected Price ($1k)\n",
       "0  EV28368                  17.0\n",
       "1  EV27088                  43.0\n",
       "2  EV58989                  69.0\n",
       "3   EV6715                  64.0\n",
       "4  EV63251                  73.0"
      ]
     },
     "execution_count": 105,
     "metadata": {},
     "output_type": "execute_result"
    }
   ],
   "source": [
    "dataframe.head()"
   ]
  },
  {
   "cell_type": "code",
   "execution_count": 106,
   "id": "9270a76d",
   "metadata": {},
   "outputs": [],
   "source": [
    "dataframe.to_csv('evresult.csv', index=False)"
   ]
  }
 ],
 "metadata": {
  "kernelspec": {
   "display_name": "Python 3",
   "language": "python",
   "name": "python3"
  },
  "language_info": {
   "codemirror_mode": {
    "name": "ipython",
    "version": 3
   },
   "file_extension": ".py",
   "mimetype": "text/x-python",
   "name": "python",
   "nbconvert_exporter": "python",
   "pygments_lexer": "ipython3",
   "version": "3.8.8"
  }
 },
 "nbformat": 4,
 "nbformat_minor": 5
}
